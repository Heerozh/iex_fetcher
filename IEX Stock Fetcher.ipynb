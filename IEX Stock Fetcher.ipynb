{
 "cells": [
  {
   "cell_type": "code",
   "execution_count": 1,
   "metadata": {},
   "outputs": [],
   "source": [
    "%load_ext autoreload\n",
    "%autoreload 2"
   ]
  },
  {
   "cell_type": "markdown",
   "metadata": {},
   "source": [
    "# IEX Stock Fetcher\n",
    "\n",
    "Use IEX free message quota, fetcher stock data and save to disk, run this every month.\n",
    "\n",
    "iex免费版只能获得200个股票的一年数据，所以要定期运行。"
   ]
  },
  {
   "cell_type": "code",
   "execution_count": 37,
   "metadata": {},
   "outputs": [
    {
     "name": "stdout",
     "output_type": "stream",
     "text": [
      "https://sandbox.iexapis.com/stable/stock/AAPL/chart/5d?token=Tpk_8dad7c6b1806466dbb3c1b3c07fa5be1\n"
     ]
    },
    {
     "data": {
      "text/html": [
       "<div>\n",
       "<style scoped>\n",
       "    .dataframe tbody tr th:only-of-type {\n",
       "        vertical-align: middle;\n",
       "    }\n",
       "\n",
       "    .dataframe tbody tr th {\n",
       "        vertical-align: top;\n",
       "    }\n",
       "\n",
       "    .dataframe thead th {\n",
       "        text-align: right;\n",
       "    }\n",
       "</style>\n",
       "<table border=\"1\" class=\"dataframe\">\n",
       "  <thead>\n",
       "    <tr style=\"text-align: right;\">\n",
       "      <th></th>\n",
       "      <th>change</th>\n",
       "      <th>changeOverTime</th>\n",
       "      <th>changePercent</th>\n",
       "      <th>close</th>\n",
       "      <th>high</th>\n",
       "      <th>label</th>\n",
       "      <th>low</th>\n",
       "      <th>open</th>\n",
       "      <th>uClose</th>\n",
       "      <th>uHigh</th>\n",
       "      <th>uLow</th>\n",
       "      <th>uOpen</th>\n",
       "      <th>uVolume</th>\n",
       "      <th>volume</th>\n",
       "    </tr>\n",
       "    <tr>\n",
       "      <th>date</th>\n",
       "      <th></th>\n",
       "      <th></th>\n",
       "      <th></th>\n",
       "      <th></th>\n",
       "      <th></th>\n",
       "      <th></th>\n",
       "      <th></th>\n",
       "      <th></th>\n",
       "      <th></th>\n",
       "      <th></th>\n",
       "      <th></th>\n",
       "      <th></th>\n",
       "      <th></th>\n",
       "      <th></th>\n",
       "    </tr>\n",
       "  </thead>\n",
       "  <tbody>\n",
       "    <tr>\n",
       "      <th>2019-09-30</th>\n",
       "      <td>0.00</td>\n",
       "      <td>0.000000</td>\n",
       "      <td>0.0000</td>\n",
       "      <td>229.54</td>\n",
       "      <td>225.92</td>\n",
       "      <td>Sep 30</td>\n",
       "      <td>221.73</td>\n",
       "      <td>224.50</td>\n",
       "      <td>225.26</td>\n",
       "      <td>228.01</td>\n",
       "      <td>230.70</td>\n",
       "      <td>231.20</td>\n",
       "      <td>27539986</td>\n",
       "      <td>26787369</td>\n",
       "    </tr>\n",
       "    <tr>\n",
       "      <th>2019-10-01</th>\n",
       "      <td>0.63</td>\n",
       "      <td>0.002775</td>\n",
       "      <td>0.2815</td>\n",
       "      <td>229.04</td>\n",
       "      <td>239.21</td>\n",
       "      <td>Oct 1</td>\n",
       "      <td>231.90</td>\n",
       "      <td>234.64</td>\n",
       "      <td>234.83</td>\n",
       "      <td>236.58</td>\n",
       "      <td>230.30</td>\n",
       "      <td>230.73</td>\n",
       "      <td>36896771</td>\n",
       "      <td>37691327</td>\n",
       "    </tr>\n",
       "    <tr>\n",
       "      <th>2019-10-02</th>\n",
       "      <td>-5.69</td>\n",
       "      <td>-0.023063</td>\n",
       "      <td>-2.5204</td>\n",
       "      <td>224.21</td>\n",
       "      <td>230.56</td>\n",
       "      <td>Oct 2</td>\n",
       "      <td>228.28</td>\n",
       "      <td>234.13</td>\n",
       "      <td>222.98</td>\n",
       "      <td>233.20</td>\n",
       "      <td>220.72</td>\n",
       "      <td>224.07</td>\n",
       "      <td>36379268</td>\n",
       "      <td>36228989</td>\n",
       "    </tr>\n",
       "    <tr>\n",
       "      <th>2019-10-03</th>\n",
       "      <td>1.89</td>\n",
       "      <td>-0.014128</td>\n",
       "      <td>0.8539</td>\n",
       "      <td>231.16</td>\n",
       "      <td>229.00</td>\n",
       "      <td>Oct 3</td>\n",
       "      <td>219.37</td>\n",
       "      <td>221.33</td>\n",
       "      <td>224.85</td>\n",
       "      <td>231.27</td>\n",
       "      <td>220.96</td>\n",
       "      <td>227.30</td>\n",
       "      <td>30516530</td>\n",
       "      <td>31653352</td>\n",
       "    </tr>\n",
       "    <tr>\n",
       "      <th>2019-10-04</th>\n",
       "      <td>6.42</td>\n",
       "      <td>0.014211</td>\n",
       "      <td>2.8962</td>\n",
       "      <td>237.87</td>\n",
       "      <td>235.60</td>\n",
       "      <td>Oct 4</td>\n",
       "      <td>226.29</td>\n",
       "      <td>225.92</td>\n",
       "      <td>234.91</td>\n",
       "      <td>233.40</td>\n",
       "      <td>226.89</td>\n",
       "      <td>227.88</td>\n",
       "      <td>36307551</td>\n",
       "      <td>36075160</td>\n",
       "    </tr>\n",
       "  </tbody>\n",
       "</table>\n",
       "</div>"
      ],
      "text/plain": [
       "            change  changeOverTime  changePercent   close    high   label  \\\n",
       "date                                                                        \n",
       "2019-09-30    0.00        0.000000         0.0000  229.54  225.92  Sep 30   \n",
       "2019-10-01    0.63        0.002775         0.2815  229.04  239.21   Oct 1   \n",
       "2019-10-02   -5.69       -0.023063        -2.5204  224.21  230.56   Oct 2   \n",
       "2019-10-03    1.89       -0.014128         0.8539  231.16  229.00   Oct 3   \n",
       "2019-10-04    6.42        0.014211         2.8962  237.87  235.60   Oct 4   \n",
       "\n",
       "               low    open  uClose   uHigh    uLow   uOpen   uVolume    volume  \n",
       "date                                                                            \n",
       "2019-09-30  221.73  224.50  225.26  228.01  230.70  231.20  27539986  26787369  \n",
       "2019-10-01  231.90  234.64  234.83  236.58  230.30  230.73  36896771  37691327  \n",
       "2019-10-02  228.28  234.13  222.98  233.20  220.72  224.07  36379268  36228989  \n",
       "2019-10-03  219.37  221.33  224.85  231.27  220.96  227.30  30516530  31653352  \n",
       "2019-10-04  226.29  225.92  234.91  233.40  226.89  227.88  36307551  36075160  "
      ]
     },
     "execution_count": 37,
     "metadata": {},
     "output_type": "execute_result"
    }
   ],
   "source": [
    "import iex\n",
    "iex.init('Tpk_8dad7c6b1806466dbb3c1b3c07fa5be1', api='sandbox')\n",
    "aapl = iex.Stock('AAPL')\n",
    "aapl.chart('5d')"
   ]
  },
  {
   "cell_type": "code",
   "execution_count": 48,
   "metadata": {},
   "outputs": [
    {
     "ename": "Exception",
     "evalue": "GET stock/PCL/chart/5d 404 Unknown symbol",
     "output_type": "error",
     "traceback": [
      "\u001b[1;31m---------------------------------------------------------------------------\u001b[0m",
      "\u001b[1;31mException\u001b[0m                                 Traceback (most recent call last)",
      "\u001b[1;32m<ipython-input-48-799e26a99e0e>\u001b[0m in \u001b[0;36m<module>\u001b[1;34m()\u001b[0m\n\u001b[0;32m      1\u001b[0m \u001b[1;31m# iex.init('pk_0c56863a48ca41ada2e473ac4e365cfc', api='cloud')\u001b[0m\u001b[1;33m\u001b[0m\u001b[1;33m\u001b[0m\u001b[0m\n\u001b[0;32m      2\u001b[0m \u001b[0miex\u001b[0m\u001b[1;33m.\u001b[0m\u001b[0minit\u001b[0m\u001b[1;33m(\u001b[0m\u001b[1;34m'Tpk_8dad7c6b1806466dbb3c1b3c07fa5be1'\u001b[0m\u001b[1;33m,\u001b[0m \u001b[0mapi\u001b[0m\u001b[1;33m=\u001b[0m\u001b[1;34m'sandbox'\u001b[0m\u001b[1;33m)\u001b[0m\u001b[1;33m\u001b[0m\u001b[0m\n\u001b[1;32m----> 3\u001b[1;33m \u001b[0mdf\u001b[0m\u001b[1;33m,\u001b[0m \u001b[0m_\u001b[0m \u001b[1;33m=\u001b[0m \u001b[0miex\u001b[0m\u001b[1;33m.\u001b[0m\u001b[0mchart\u001b[0m\u001b[1;33m(\u001b[0m\u001b[1;34m'PCL'\u001b[0m\u001b[1;33m,\u001b[0m \u001b[1;34m'5d'\u001b[0m\u001b[1;33m)\u001b[0m\u001b[1;33m\u001b[0m\u001b[0m\n\u001b[0m\u001b[0;32m      4\u001b[0m \u001b[0mdf\u001b[0m\u001b[1;33m\u001b[0m\u001b[0m\n",
      "\u001b[1;32mc:\\xsoft\\fac\\fetchers\\iex_fetcher\\iex.py\u001b[0m in \u001b[0;36mchart\u001b[1;34m(symbol, range)\u001b[0m\n\u001b[0;32m     52\u001b[0m \u001b[1;32mdef\u001b[0m \u001b[0mchart\u001b[0m\u001b[1;33m(\u001b[0m\u001b[0msymbol\u001b[0m\u001b[1;33m,\u001b[0m \u001b[0mrange\u001b[0m\u001b[1;33m)\u001b[0m\u001b[1;33m:\u001b[0m\u001b[1;33m\u001b[0m\u001b[0m\n\u001b[0;32m     53\u001b[0m     \u001b[0ms\u001b[0m \u001b[1;33m=\u001b[0m \u001b[0mstock\u001b[0m\u001b[1;33m(\u001b[0m\u001b[0msymbol\u001b[0m\u001b[1;33m)\u001b[0m\u001b[1;33m\u001b[0m\u001b[0m\n\u001b[1;32m---> 54\u001b[1;33m     \u001b[1;32mreturn\u001b[0m \u001b[0ms\u001b[0m\u001b[1;33m.\u001b[0m\u001b[0mchart\u001b[0m\u001b[1;33m(\u001b[0m\u001b[0mrange\u001b[0m\u001b[1;33m)\u001b[0m\u001b[1;33m,\u001b[0m \u001b[0ms\u001b[0m\u001b[1;33m\u001b[0m\u001b[0m\n\u001b[0m\u001b[0;32m     55\u001b[0m \u001b[1;33m\u001b[0m\u001b[0m\n",
      "\u001b[1;32mc:\\xsoft\\fac\\fetchers\\iex_fetcher\\iex.py\u001b[0m in \u001b[0;36mchart\u001b[1;34m(self, range)\u001b[0m\n\u001b[0;32m     35\u001b[0m     \u001b[1;32mdef\u001b[0m \u001b[0mchart\u001b[0m\u001b[1;33m(\u001b[0m\u001b[0mself\u001b[0m\u001b[1;33m,\u001b[0m \u001b[0mrange\u001b[0m\u001b[1;33m)\u001b[0m\u001b[1;33m:\u001b[0m\u001b[1;33m\u001b[0m\u001b[0m\n\u001b[0;32m     36\u001b[0m         \u001b[1;31m# https://sandbox.iexapis.com/stable/stock/AAPL/chart/1m?token=Tpk_8dad7c6b1806466dbb3c1b3c07fa5be1\u001b[0m\u001b[1;33m\u001b[0m\u001b[1;33m\u001b[0m\u001b[0m\n\u001b[1;32m---> 37\u001b[1;33m         \u001b[0mjson_text\u001b[0m \u001b[1;33m=\u001b[0m \u001b[0mself\u001b[0m\u001b[1;33m.\u001b[0m\u001b[0m_get\u001b[0m\u001b[1;33m(\u001b[0m\u001b[1;34m'stock/{}/chart/{}'\u001b[0m\u001b[1;33m.\u001b[0m\u001b[0mformat\u001b[0m\u001b[1;33m(\u001b[0m\u001b[0mself\u001b[0m\u001b[1;33m.\u001b[0m\u001b[0m_symbol\u001b[0m\u001b[1;33m,\u001b[0m \u001b[0mrange\u001b[0m\u001b[1;33m)\u001b[0m\u001b[1;33m,\u001b[0m \u001b[0mparse\u001b[0m\u001b[1;33m=\u001b[0m\u001b[1;32mFalse\u001b[0m\u001b[1;33m)\u001b[0m\u001b[1;33m\u001b[0m\u001b[0m\n\u001b[0m\u001b[0;32m     38\u001b[0m         \u001b[0mdf\u001b[0m \u001b[1;33m=\u001b[0m \u001b[0mpd\u001b[0m\u001b[1;33m.\u001b[0m\u001b[0mread_json\u001b[0m\u001b[1;33m(\u001b[0m\u001b[0mjson_text\u001b[0m\u001b[1;33m,\u001b[0m \u001b[0morient\u001b[0m\u001b[1;33m=\u001b[0m\u001b[1;34m'records'\u001b[0m\u001b[1;33m,\u001b[0m \u001b[0mconvert_dates\u001b[0m\u001b[1;33m=\u001b[0m\u001b[1;32mTrue\u001b[0m\u001b[1;33m)\u001b[0m\u001b[1;33m\u001b[0m\u001b[0m\n\u001b[0;32m     39\u001b[0m         \u001b[0mdf\u001b[0m \u001b[1;33m=\u001b[0m \u001b[0mdf\u001b[0m\u001b[1;33m.\u001b[0m\u001b[0mset_index\u001b[0m\u001b[1;33m(\u001b[0m\u001b[1;34m'date'\u001b[0m\u001b[1;33m)\u001b[0m\u001b[1;33m\u001b[0m\u001b[0m\n",
      "\u001b[1;32mc:\\xsoft\\fac\\fetchers\\iex_fetcher\\iex.py\u001b[0m in \u001b[0;36m_get\u001b[1;34m(cls, query, parse)\u001b[0m\n\u001b[0;32m     20\u001b[0m         \u001b[0mresp\u001b[0m \u001b[1;33m=\u001b[0m \u001b[0mrequests\u001b[0m\u001b[1;33m.\u001b[0m\u001b[0mget\u001b[0m\u001b[1;33m(\u001b[0m\u001b[0mcls\u001b[0m\u001b[1;33m.\u001b[0m\u001b[0m_make_url\u001b[0m\u001b[1;33m(\u001b[0m\u001b[0mquery\u001b[0m\u001b[1;33m)\u001b[0m\u001b[1;33m)\u001b[0m\u001b[1;33m\u001b[0m\u001b[0m\n\u001b[0;32m     21\u001b[0m         \u001b[1;32mif\u001b[0m \u001b[0mresp\u001b[0m\u001b[1;33m.\u001b[0m\u001b[0mstatus_code\u001b[0m \u001b[1;33m!=\u001b[0m \u001b[1;36m200\u001b[0m\u001b[1;33m:\u001b[0m\u001b[1;33m\u001b[0m\u001b[0m\n\u001b[1;32m---> 22\u001b[1;33m             \u001b[1;32mraise\u001b[0m \u001b[0mException\u001b[0m\u001b[1;33m(\u001b[0m\u001b[1;34m'GET {} {} {}'\u001b[0m\u001b[1;33m.\u001b[0m\u001b[0mformat\u001b[0m\u001b[1;33m(\u001b[0m\u001b[0mquery\u001b[0m\u001b[1;33m,\u001b[0m \u001b[0mresp\u001b[0m\u001b[1;33m.\u001b[0m\u001b[0mstatus_code\u001b[0m\u001b[1;33m,\u001b[0m \u001b[0mresp\u001b[0m\u001b[1;33m.\u001b[0m\u001b[0mtext\u001b[0m\u001b[1;33m)\u001b[0m\u001b[1;33m)\u001b[0m\u001b[1;33m\u001b[0m\u001b[0m\n\u001b[0m\u001b[0;32m     23\u001b[0m         \u001b[1;32mif\u001b[0m \u001b[0mparse\u001b[0m\u001b[1;33m:\u001b[0m\u001b[1;33m\u001b[0m\u001b[0m\n\u001b[0;32m     24\u001b[0m             \u001b[1;32mreturn\u001b[0m \u001b[0mresp\u001b[0m\u001b[1;33m.\u001b[0m\u001b[0mjson\u001b[0m\u001b[1;33m(\u001b[0m\u001b[1;33m)\u001b[0m\u001b[1;33m\u001b[0m\u001b[0m\n",
      "\u001b[1;31mException\u001b[0m: GET stock/PCL/chart/5d 404 Unknown symbol"
     ]
    }
   ],
   "source": [
    "# iex.init('pk_0c56863a48ca41ada2e473ac4e365cfc', api='cloud')\n",
    "iex.init('Tpk_8dad7c6b1806466dbb3c1b3c07fa5be1', api='sandbox')\n",
    "df, _ = iex.chart('PCL', '5d')\n",
    "df"
   ]
  },
  {
   "cell_type": "code",
   "execution_count": null,
   "metadata": {},
   "outputs": [],
   "source": [
    "一行代码获取spy成员\n",
    "# fetch spy from website, clean for some bad formatted symbols\n",
    "spy = [x for x in pandas.read_html('https://etfdailynews.com/etf/spy/', attrs={'id': 'etfs-that-own'})[0].Symbol.values.tolist() if isinstance(x, str)]"
   ]
  },
  {
   "cell_type": "code",
   "execution_count": null,
   "metadata": {},
   "outputs": [],
   "source": [
    "保存他们一年的数据到磁盘，和之前的合并"
   ]
  },
  {
   "cell_type": "code",
   "execution_count": null,
   "metadata": {},
   "outputs": [],
   "source": [
    "获取AET的数据，貌似aet数据不对"
   ]
  },
  {
   "cell_type": "code",
   "execution_count": null,
   "metadata": {},
   "outputs": [],
   "source": []
  },
  {
   "cell_type": "code",
   "execution_count": null,
   "metadata": {},
   "outputs": [],
   "source": []
  },
  {
   "cell_type": "code",
   "execution_count": null,
   "metadata": {},
   "outputs": [],
   "source": []
  },
  {
   "cell_type": "code",
   "execution_count": null,
   "metadata": {},
   "outputs": [],
   "source": []
  }
 ],
 "metadata": {
  "kernelspec": {
   "display_name": "Python [conda env:fac]",
   "language": "python",
   "name": "conda-env-fac-py"
  },
  "language_info": {
   "codemirror_mode": {
    "name": "ipython",
    "version": 3
   },
   "file_extension": ".py",
   "mimetype": "text/x-python",
   "name": "python",
   "nbconvert_exporter": "python",
   "pygments_lexer": "ipython3",
   "version": "3.5.6"
  }
 },
 "nbformat": 4,
 "nbformat_minor": 2
}
