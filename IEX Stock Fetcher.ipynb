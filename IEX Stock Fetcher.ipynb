{
 "cells": [
  {
   "cell_type": "code",
   "execution_count": 1,
   "metadata": {},
   "outputs": [],
   "source": [
    "%load_ext autoreload\n",
    "%autoreload 2"
   ]
  },
  {
   "cell_type": "markdown",
   "metadata": {},
   "source": [
    "# IEX Stock Fetcher\n",
    "\n",
    "The IEX free message quota only gets one year of data for 200 stocks, so run this, fetcher stock data and save to disk every month.\n"
   ]
  },
  {
   "cell_type": "markdown",
   "metadata": {},
   "source": [
    "## Test api"
   ]
  },
  {
   "cell_type": "code",
   "execution_count": 49,
   "metadata": {},
   "outputs": [
    {
     "data": {
      "text/html": [
       "<div>\n",
       "<style scoped>\n",
       "    .dataframe tbody tr th:only-of-type {\n",
       "        vertical-align: middle;\n",
       "    }\n",
       "\n",
       "    .dataframe tbody tr th {\n",
       "        vertical-align: top;\n",
       "    }\n",
       "\n",
       "    .dataframe thead th {\n",
       "        text-align: right;\n",
       "    }\n",
       "</style>\n",
       "<table border=\"1\" class=\"dataframe\">\n",
       "  <thead>\n",
       "    <tr style=\"text-align: right;\">\n",
       "      <th></th>\n",
       "      <th>change</th>\n",
       "      <th>changeOverTime</th>\n",
       "      <th>changePercent</th>\n",
       "      <th>close</th>\n",
       "      <th>high</th>\n",
       "      <th>label</th>\n",
       "      <th>low</th>\n",
       "      <th>open</th>\n",
       "      <th>uClose</th>\n",
       "      <th>uHigh</th>\n",
       "      <th>uLow</th>\n",
       "      <th>uOpen</th>\n",
       "      <th>uVolume</th>\n",
       "      <th>volume</th>\n",
       "    </tr>\n",
       "    <tr>\n",
       "      <th>date</th>\n",
       "      <th></th>\n",
       "      <th></th>\n",
       "      <th></th>\n",
       "      <th></th>\n",
       "      <th></th>\n",
       "      <th></th>\n",
       "      <th></th>\n",
       "      <th></th>\n",
       "      <th></th>\n",
       "      <th></th>\n",
       "      <th></th>\n",
       "      <th></th>\n",
       "      <th></th>\n",
       "      <th></th>\n",
       "    </tr>\n",
       "  </thead>\n",
       "  <tbody>\n",
       "    <tr>\n",
       "      <th>2019-09-30</th>\n",
       "      <td>0.00</td>\n",
       "      <td>0.000000</td>\n",
       "      <td>0.0000</td>\n",
       "      <td>233.55</td>\n",
       "      <td>232.94</td>\n",
       "      <td>Sep 30</td>\n",
       "      <td>221.48</td>\n",
       "      <td>224.00</td>\n",
       "      <td>228.49</td>\n",
       "      <td>226.79</td>\n",
       "      <td>229.87</td>\n",
       "      <td>221.00</td>\n",
       "      <td>26324314</td>\n",
       "      <td>26990686</td>\n",
       "    </tr>\n",
       "    <tr>\n",
       "      <th>2019-10-01</th>\n",
       "      <td>0.64</td>\n",
       "      <td>0.002867</td>\n",
       "      <td>0.2789</td>\n",
       "      <td>231.94</td>\n",
       "      <td>236.72</td>\n",
       "      <td>Oct 1</td>\n",
       "      <td>231.30</td>\n",
       "      <td>226.46</td>\n",
       "      <td>226.77</td>\n",
       "      <td>237.37</td>\n",
       "      <td>232.20</td>\n",
       "      <td>228.45</td>\n",
       "      <td>37300050</td>\n",
       "      <td>37740641</td>\n",
       "    </tr>\n",
       "    <tr>\n",
       "      <th>2019-10-02</th>\n",
       "      <td>-5.70</td>\n",
       "      <td>-0.022807</td>\n",
       "      <td>-2.6285</td>\n",
       "      <td>223.67</td>\n",
       "      <td>231.00</td>\n",
       "      <td>Oct 2</td>\n",
       "      <td>226.87</td>\n",
       "      <td>223.61</td>\n",
       "      <td>219.79</td>\n",
       "      <td>233.90</td>\n",
       "      <td>222.10</td>\n",
       "      <td>233.27</td>\n",
       "      <td>37190954</td>\n",
       "      <td>36897959</td>\n",
       "    </tr>\n",
       "    <tr>\n",
       "      <th>2019-10-03</th>\n",
       "      <td>1.95</td>\n",
       "      <td>-0.014448</td>\n",
       "      <td>0.8510</td>\n",
       "      <td>229.09</td>\n",
       "      <td>224.64</td>\n",
       "      <td>Oct 3</td>\n",
       "      <td>223.64</td>\n",
       "      <td>222.83</td>\n",
       "      <td>228.46</td>\n",
       "      <td>224.76</td>\n",
       "      <td>222.09</td>\n",
       "      <td>220.24</td>\n",
       "      <td>31829034</td>\n",
       "      <td>31639591</td>\n",
       "    </tr>\n",
       "    <tr>\n",
       "      <th>2019-10-04</th>\n",
       "      <td>6.22</td>\n",
       "      <td>0.014130</td>\n",
       "      <td>2.8757</td>\n",
       "      <td>230.11</td>\n",
       "      <td>232.69</td>\n",
       "      <td>Oct 4</td>\n",
       "      <td>229.78</td>\n",
       "      <td>235.12</td>\n",
       "      <td>236.55</td>\n",
       "      <td>227.84</td>\n",
       "      <td>228.39</td>\n",
       "      <td>231.80</td>\n",
       "      <td>36212147</td>\n",
       "      <td>35343376</td>\n",
       "    </tr>\n",
       "  </tbody>\n",
       "</table>\n",
       "</div>"
      ],
      "text/plain": [
       "            change  changeOverTime  changePercent   close    high   label  \\\n",
       "date                                                                        \n",
       "2019-09-30    0.00        0.000000         0.0000  233.55  232.94  Sep 30   \n",
       "2019-10-01    0.64        0.002867         0.2789  231.94  236.72   Oct 1   \n",
       "2019-10-02   -5.70       -0.022807        -2.6285  223.67  231.00   Oct 2   \n",
       "2019-10-03    1.95       -0.014448         0.8510  229.09  224.64   Oct 3   \n",
       "2019-10-04    6.22        0.014130         2.8757  230.11  232.69   Oct 4   \n",
       "\n",
       "               low    open  uClose   uHigh    uLow   uOpen   uVolume    volume  \n",
       "date                                                                            \n",
       "2019-09-30  221.48  224.00  228.49  226.79  229.87  221.00  26324314  26990686  \n",
       "2019-10-01  231.30  226.46  226.77  237.37  232.20  228.45  37300050  37740641  \n",
       "2019-10-02  226.87  223.61  219.79  233.90  222.10  233.27  37190954  36897959  \n",
       "2019-10-03  223.64  222.83  228.46  224.76  222.09  220.24  31829034  31639591  \n",
       "2019-10-04  229.78  235.12  236.55  227.84  228.39  231.80  36212147  35343376  "
      ]
     },
     "execution_count": 49,
     "metadata": {},
     "output_type": "execute_result"
    }
   ],
   "source": [
    "import iex\n",
    "iex.init('Tpk_8dad7c6b1806466dbb3c1b3c07fa5be1', api='sandbox')\n",
    "aapl = iex.Stock('AAPL')\n",
    "aapl.chart('5d')"
   ]
  },
  {
   "cell_type": "markdown",
   "metadata": {},
   "source": [
    "## Fetche SPY stocks"
   ]
  },
  {
   "cell_type": "code",
   "execution_count": 51,
   "metadata": {},
   "outputs": [],
   "source": [
    "import pandas as pd\n",
    "spy = [x for x in pd.read_html('https://etfdailynews.com/etf/spy/', attrs={'id': 'etfs-that-own'})[0].Symbol.values.tolist() if isinstance(x, str)]"
   ]
  },
  {
   "cell_type": "code",
   "execution_count": null,
   "metadata": {},
   "outputs": [],
   "source": [
    "# iex.init('pk_xxx', api='cloud')\n",
    "iex.init('Tpk_8dad7c6b1806466dbb3c1b3c07fa5be1', api='sandbox')\n",
    "for k in spy:\n",
    "    # todo read csv and add needed range\n",
    "    iex.Stock(k).chart('1y').to_csv(\"./daily/{}.csv\".format(k))"
   ]
  },
  {
   "cell_type": "code",
   "execution_count": null,
   "metadata": {},
   "outputs": [],
   "source": []
  },
  {
   "cell_type": "code",
   "execution_count": null,
   "metadata": {},
   "outputs": [],
   "source": [
    " "
   ]
  },
  {
   "cell_type": "code",
   "execution_count": null,
   "metadata": {},
   "outputs": [],
   "source": []
  },
  {
   "cell_type": "code",
   "execution_count": null,
   "metadata": {},
   "outputs": [],
   "source": []
  },
  {
   "cell_type": "code",
   "execution_count": null,
   "metadata": {},
   "outputs": [],
   "source": []
  },
  {
   "cell_type": "code",
   "execution_count": null,
   "metadata": {},
   "outputs": [],
   "source": []
  }
 ],
 "metadata": {
  "kernelspec": {
   "display_name": "Python [conda env:fac]",
   "language": "python",
   "name": "conda-env-fac-py"
  },
  "language_info": {
   "codemirror_mode": {
    "name": "ipython",
    "version": 3
   },
   "file_extension": ".py",
   "mimetype": "text/x-python",
   "name": "python",
   "nbconvert_exporter": "python",
   "pygments_lexer": "ipython3",
   "version": "3.5.6"
  }
 },
 "nbformat": 4,
 "nbformat_minor": 2
}
