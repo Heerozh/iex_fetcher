{
 "cells": [
  {
   "cell_type": "markdown",
   "metadata": {},
   "source": [
    "# Simple IEX Stock Fetcher\n",
    "\n",
    "The IEX free message quota only gets one year of data for 200 stocks, so run this, fetcher stock data and save to disk every month.\n"
   ]
  },
  {
   "cell_type": "markdown",
   "metadata": {},
   "source": [
    "## Test api"
   ]
  },
  {
   "cell_type": "code",
   "execution_count": 1,
   "metadata": {},
   "outputs": [
    {
     "data": {
      "text/html": [
       "<div>\n",
       "<style scoped>\n",
       "    .dataframe tbody tr th:only-of-type {\n",
       "        vertical-align: middle;\n",
       "    }\n",
       "\n",
       "    .dataframe tbody tr th {\n",
       "        vertical-align: top;\n",
       "    }\n",
       "\n",
       "    .dataframe thead th {\n",
       "        text-align: right;\n",
       "    }\n",
       "</style>\n",
       "<table border=\"1\" class=\"dataframe\">\n",
       "  <thead>\n",
       "    <tr style=\"text-align: right;\">\n",
       "      <th></th>\n",
       "      <th>close</th>\n",
       "      <th>volume</th>\n",
       "      <th>change</th>\n",
       "      <th>changePercent</th>\n",
       "      <th>changeOverTime</th>\n",
       "    </tr>\n",
       "    <tr>\n",
       "      <th>date</th>\n",
       "      <th></th>\n",
       "      <th></th>\n",
       "      <th></th>\n",
       "      <th></th>\n",
       "      <th></th>\n",
       "    </tr>\n",
       "  </thead>\n",
       "  <tbody>\n",
       "    <tr>\n",
       "      <th>2019-12-02</th>\n",
       "      <td>275.94</td>\n",
       "      <td>23955391</td>\n",
       "      <td>0.00</td>\n",
       "      <td>0.0000</td>\n",
       "      <td>0.000000</td>\n",
       "    </tr>\n",
       "    <tr>\n",
       "      <th>2019-12-03</th>\n",
       "      <td>267.31</td>\n",
       "      <td>29436533</td>\n",
       "      <td>-4.71</td>\n",
       "      <td>-1.8220</td>\n",
       "      <td>-0.018040</td>\n",
       "    </tr>\n",
       "    <tr>\n",
       "      <th>2019-12-04</th>\n",
       "      <td>270.50</td>\n",
       "      <td>17105848</td>\n",
       "      <td>2.30</td>\n",
       "      <td>0.9027</td>\n",
       "      <td>-0.009595</td>\n",
       "    </tr>\n",
       "    <tr>\n",
       "      <th>2019-12-05</th>\n",
       "      <td>271.09</td>\n",
       "      <td>19544976</td>\n",
       "      <td>3.90</td>\n",
       "      <td>1.5050</td>\n",
       "      <td>0.005488</td>\n",
       "    </tr>\n",
       "    <tr>\n",
       "      <th>2019-12-06</th>\n",
       "      <td>270.78</td>\n",
       "      <td>27588546</td>\n",
       "      <td>5.23</td>\n",
       "      <td>1.9732</td>\n",
       "      <td>0.025005</td>\n",
       "    </tr>\n",
       "  </tbody>\n",
       "</table>\n",
       "</div>"
      ],
      "text/plain": [
       "             close    volume  change  changePercent  changeOverTime\n",
       "date                                                               \n",
       "2019-12-02  275.94  23955391    0.00         0.0000        0.000000\n",
       "2019-12-03  267.31  29436533   -4.71        -1.8220       -0.018040\n",
       "2019-12-04  270.50  17105848    2.30         0.9027       -0.009595\n",
       "2019-12-05  271.09  19544976    3.90         1.5050        0.005488\n",
       "2019-12-06  270.78  27588546    5.23         1.9732        0.025005"
      ]
     },
     "execution_count": 1,
     "metadata": {},
     "output_type": "execute_result"
    }
   ],
   "source": [
    "import iex\n",
    "import key\n",
    "iex.init(key.test_token, api='sandbox')\n",
    "aapl = iex.Stock('AAPL')\n",
    "aapl.chart('5d', chartCloseOnly=True)"
   ]
  },
  {
   "cell_type": "code",
   "execution_count": 11,
   "metadata": {},
   "outputs": [
    {
     "data": {
      "text/html": [
       "<div>\n",
       "<style scoped>\n",
       "    .dataframe tbody tr th:only-of-type {\n",
       "        vertical-align: middle;\n",
       "    }\n",
       "\n",
       "    .dataframe tbody tr th {\n",
       "        vertical-align: top;\n",
       "    }\n",
       "\n",
       "    .dataframe thead th {\n",
       "        text-align: right;\n",
       "    }\n",
       "</style>\n",
       "<table border=\"1\" class=\"dataframe\">\n",
       "  <thead>\n",
       "    <tr style=\"text-align: right;\">\n",
       "      <th></th>\n",
       "      <th>paymentDate</th>\n",
       "      <th>recordDate</th>\n",
       "      <th>declaredDate</th>\n",
       "      <th>amount</th>\n",
       "      <th>flag</th>\n",
       "      <th>currency</th>\n",
       "      <th>description</th>\n",
       "      <th>frequency</th>\n",
       "      <th>date</th>\n",
       "    </tr>\n",
       "    <tr>\n",
       "      <th>exDate</th>\n",
       "      <th></th>\n",
       "      <th></th>\n",
       "      <th></th>\n",
       "      <th></th>\n",
       "      <th></th>\n",
       "      <th></th>\n",
       "      <th></th>\n",
       "      <th></th>\n",
       "      <th></th>\n",
       "    </tr>\n",
       "  </thead>\n",
       "  <tbody>\n",
       "    <tr>\n",
       "      <th>2019-11-22</th>\n",
       "      <td>2019-11-28</td>\n",
       "      <td>2019-11-21</td>\n",
       "      <td>2019-11-12</td>\n",
       "      <td>0.78</td>\n",
       "      <td>ahsC</td>\n",
       "      <td>USD</td>\n",
       "      <td>ayriahsrO eSdnr</td>\n",
       "      <td>lueraryqt</td>\n",
       "      <td>2019-12-07</td>\n",
       "    </tr>\n",
       "    <tr>\n",
       "      <th>2019-08-16</th>\n",
       "      <td>2019-08-20</td>\n",
       "      <td>2019-08-20</td>\n",
       "      <td>2019-08-02</td>\n",
       "      <td>0.79</td>\n",
       "      <td>sCha</td>\n",
       "      <td>USD</td>\n",
       "      <td>Ohey drainrsrSa</td>\n",
       "      <td>aerqurtly</td>\n",
       "      <td>2019-12-07</td>\n",
       "    </tr>\n",
       "    <tr>\n",
       "      <th>2019-05-22</th>\n",
       "      <td>2019-05-29</td>\n",
       "      <td>2019-05-18</td>\n",
       "      <td>2019-05-12</td>\n",
       "      <td>0.77</td>\n",
       "      <td>hCas</td>\n",
       "      <td>USD</td>\n",
       "      <td>nOrSsyairrhea d</td>\n",
       "      <td>layrertqu</td>\n",
       "      <td>2019-12-07</td>\n",
       "    </tr>\n",
       "    <tr>\n",
       "      <th>2019-02-22</th>\n",
       "      <td>2019-02-15</td>\n",
       "      <td>2019-02-12</td>\n",
       "      <td>2019-01-30</td>\n",
       "      <td>0.73</td>\n",
       "      <td>Chas</td>\n",
       "      <td>USD</td>\n",
       "      <td>rsdai yrneSOhra</td>\n",
       "      <td>eqratlyur</td>\n",
       "      <td>2019-12-07</td>\n",
       "    </tr>\n",
       "  </tbody>\n",
       "</table>\n",
       "</div>"
      ],
      "text/plain": [
       "           paymentDate  recordDate declaredDate  amount  flag currency  \\\n",
       "exDate                                                                   \n",
       "2019-11-22  2019-11-28  2019-11-21   2019-11-12    0.78  ahsC      USD   \n",
       "2019-08-16  2019-08-20  2019-08-20   2019-08-02    0.79  sCha      USD   \n",
       "2019-05-22  2019-05-29  2019-05-18   2019-05-12    0.77  hCas      USD   \n",
       "2019-02-22  2019-02-15  2019-02-12   2019-01-30    0.73  Chas      USD   \n",
       "\n",
       "                description  frequency       date  \n",
       "exDate                                             \n",
       "2019-11-22  ayriahsrO eSdnr  lueraryqt 2019-12-07  \n",
       "2019-08-16  Ohey drainrsrSa  aerqurtly 2019-12-07  \n",
       "2019-05-22  nOrSsyairrhea d  layrertqu 2019-12-07  \n",
       "2019-02-22  rsdai yrneSOhra  eqratlyur 2019-12-07  "
      ]
     },
     "execution_count": 11,
     "metadata": {},
     "output_type": "execute_result"
    }
   ],
   "source": [
    "aapl.dividends('1y')"
   ]
  },
  {
   "cell_type": "code",
   "execution_count": 14,
   "metadata": {},
   "outputs": [
    {
     "data": {
      "text/html": [
       "<div>\n",
       "<style scoped>\n",
       "    .dataframe tbody tr th:only-of-type {\n",
       "        vertical-align: middle;\n",
       "    }\n",
       "\n",
       "    .dataframe tbody tr th {\n",
       "        vertical-align: top;\n",
       "    }\n",
       "\n",
       "    .dataframe thead th {\n",
       "        text-align: right;\n",
       "    }\n",
       "</style>\n",
       "<table border=\"1\" class=\"dataframe\">\n",
       "  <thead>\n",
       "    <tr style=\"text-align: right;\">\n",
       "      <th></th>\n",
       "      <th>paymentDate</th>\n",
       "      <th>recordDate</th>\n",
       "      <th>declaredDate</th>\n",
       "      <th>amount</th>\n",
       "      <th>flag</th>\n",
       "      <th>currency</th>\n",
       "      <th>description</th>\n",
       "      <th>frequency</th>\n",
       "      <th>date</th>\n",
       "    </tr>\n",
       "    <tr>\n",
       "      <th>exDate</th>\n",
       "      <th></th>\n",
       "      <th></th>\n",
       "      <th></th>\n",
       "      <th></th>\n",
       "      <th></th>\n",
       "      <th></th>\n",
       "      <th></th>\n",
       "      <th></th>\n",
       "      <th></th>\n",
       "    </tr>\n",
       "  </thead>\n",
       "  <tbody>\n",
       "    <tr>\n",
       "      <th>2019-11-07</th>\n",
       "      <td>2019-11-14</td>\n",
       "      <td>2019-11-11</td>\n",
       "      <td>2019-10-30</td>\n",
       "      <td>0.77</td>\n",
       "      <td>Cash</td>\n",
       "      <td>USD</td>\n",
       "      <td>Ordinary Shares</td>\n",
       "      <td>quarterly</td>\n",
       "      <td>2019-12-07</td>\n",
       "    </tr>\n",
       "    <tr>\n",
       "      <th>2019-08-09</th>\n",
       "      <td>2019-08-15</td>\n",
       "      <td>2019-08-12</td>\n",
       "      <td>2019-07-30</td>\n",
       "      <td>0.77</td>\n",
       "      <td>Cash</td>\n",
       "      <td>USD</td>\n",
       "      <td>Ordinary Shares</td>\n",
       "      <td>quarterly</td>\n",
       "      <td>2019-12-07</td>\n",
       "    </tr>\n",
       "    <tr>\n",
       "      <th>2019-05-10</th>\n",
       "      <td>2019-05-16</td>\n",
       "      <td>2019-05-13</td>\n",
       "      <td>2019-04-30</td>\n",
       "      <td>0.77</td>\n",
       "      <td>Cash</td>\n",
       "      <td>USD</td>\n",
       "      <td>Ordinary Shares</td>\n",
       "      <td>quarterly</td>\n",
       "      <td>2019-12-07</td>\n",
       "    </tr>\n",
       "    <tr>\n",
       "      <th>2019-02-08</th>\n",
       "      <td>2019-02-14</td>\n",
       "      <td>2019-02-11</td>\n",
       "      <td>2019-01-29</td>\n",
       "      <td>0.73</td>\n",
       "      <td>Cash</td>\n",
       "      <td>USD</td>\n",
       "      <td>Ordinary Shares</td>\n",
       "      <td>quarterly</td>\n",
       "      <td>2019-12-07</td>\n",
       "    </tr>\n",
       "  </tbody>\n",
       "</table>\n",
       "</div>"
      ],
      "text/plain": [
       "           paymentDate  recordDate declaredDate  amount  flag currency  \\\n",
       "exDate                                                                   \n",
       "2019-11-07  2019-11-14  2019-11-11   2019-10-30    0.77  Cash      USD   \n",
       "2019-08-09  2019-08-15  2019-08-12   2019-07-30    0.77  Cash      USD   \n",
       "2019-05-10  2019-05-16  2019-05-13   2019-04-30    0.77  Cash      USD   \n",
       "2019-02-08  2019-02-14  2019-02-11   2019-01-29    0.73  Cash      USD   \n",
       "\n",
       "                description  frequency       date  \n",
       "exDate                                             \n",
       "2019-11-07  Ordinary Shares  quarterly 2019-12-07  \n",
       "2019-08-09  Ordinary Shares  quarterly 2019-12-07  \n",
       "2019-05-10  Ordinary Shares  quarterly 2019-12-07  \n",
       "2019-02-08  Ordinary Shares  quarterly 2019-12-07  "
      ]
     },
     "execution_count": 14,
     "metadata": {},
     "output_type": "execute_result"
    }
   ],
   "source": [
    "# iex.init(key.token, api='cloud')\n",
    "# aapl.dividends('1y')"
   ]
  },
  {
   "cell_type": "markdown",
   "metadata": {},
   "source": [
    "# Fetch Symobols"
   ]
  },
  {
   "cell_type": "code",
   "execution_count": 10,
   "metadata": {},
   "outputs": [],
   "source": [
    "iex.init(key.token, api='cloud')\n",
    "symbols = iex.Reference.symbols()\n",
    "symbols.to_csv(\"./symbols.csv\")\n",
    "iex.init(key.test_token, api='sandbox')"
   ]
  },
  {
   "cell_type": "markdown",
   "metadata": {},
   "source": [
    "type\trefers to the common issue type\n",
    "\n",
    "    ad - ADR\n",
    "    re - REIT\n",
    "    ce - Closed end fund\n",
    "    si - Secondary Issue\n",
    "    lp - Limited Partnerships\n",
    "    cs - Common Stock\n",
    "    et - ETF\n",
    "    wt - Warrant\n",
    "    oef - Open Ended Fund\n",
    "    cef - Closed Ended Fund\n",
    "    ps - Preferred Stock\n",
    "    ut - Unit\n",
    "    struct - Structured Product"
   ]
  },
  {
   "cell_type": "code",
   "execution_count": 21,
   "metadata": {},
   "outputs": [
    {
     "data": {
      "text/plain": [
       "type\n",
       "ad         402\n",
       "cef        506\n",
       "cs        4536\n",
       "et        2339\n",
       "ps         762\n",
       "rt          23\n",
       "struct       2\n",
       "temp         1\n",
       "ut         116\n",
       "wt         177\n",
       "Name: symbol, dtype: int64"
      ]
     },
     "execution_count": 21,
     "metadata": {},
     "output_type": "execute_result"
    }
   ],
   "source": [
    "symbols.groupby('type').symbol.count()"
   ]
  },
  {
   "cell_type": "markdown",
   "metadata": {},
   "source": [
    "# Fetcher Functions"
   ]
  },
  {
   "cell_type": "code",
   "execution_count": 2,
   "metadata": {},
   "outputs": [],
   "source": [
    "import os, sys\n",
    "import pandas as pd\n",
    "chart_range = [(5,'5d'), (20,'1m'), (75,'3m'), (165,'6m'), (341,'1y'), (715,'2y'), (99999, '5y')]\n",
    "\n",
    "def range_since_last(df):\n",
    "    days = pd.Timedelta(pd.datetime.now() - df.index[-1]).days\n",
    "    bdays = len(pd.bdate_range(df.index[-1], pd.datetime.now())) - 1\n",
    "    if bdays <= 0:\n",
    "        return None\n",
    "    for range_, param in chart_range:\n",
    "        if days < range_:\n",
    "            return param\n",
    "    return '5y'\n",
    "\n",
    "def fetch_on_demand(filename, index_col, fetch_call):\n",
    "    if os.path.exists(filename):\n",
    "        df = pd.read_csv(filename, index_col=index_col, parse_dates=True)\n",
    "        param = range_since_last(df)\n",
    "        sys.stdout.write(str(param) + \"      \")\n",
    "        if param is None:\n",
    "            return\n",
    "        # fetcher missing period\n",
    "        try:\n",
    "            df_append = fetch_call(param)\n",
    "        except EOFError:  # empty data\n",
    "            return\n",
    "        df = pd.concat([df, df_append[~df_append.index.isin(df.index)]])\n",
    "        df.sort_index(inplace=True)\n",
    "        df.to_csv(filename)\n",
    "    else:\n",
    "        sys.stdout.write('new 5y')\n",
    "        try:\n",
    "            df = fetch_call('5y')\n",
    "        except EOFError:  # empty data\n",
    "            return\n",
    "        df.sort_index(inplace=True)\n",
    "        df.to_csv(filename)"
   ]
  },
  {
   "cell_type": "markdown",
   "metadata": {},
   "source": [
    "## Fetch Adjustment"
   ]
  },
  {
   "cell_type": "code",
   "execution_count": 3,
   "metadata": {},
   "outputs": [
    {
     "data": {
      "text/plain": [
       "(array(['A', 'AA', 'AACG', ..., 'ZYXI', 'SPY', 'QQQ'], dtype=object), (4940,))"
      ]
     },
     "execution_count": 3,
     "metadata": {},
     "output_type": "execute_result"
    }
   ],
   "source": [
    "import numpy as np\n",
    "symbols = pd.read_csv('./symbols.csv', index_col='date', parse_dates=True)\n",
    "symbols = symbols[(symbols.type == 'ad') | (symbols.type == 'cs')]\n",
    "symbols = symbols.symbol.values\n",
    "symbols = np.append(symbols, ['SPY', 'QQQ'])\n",
    "symbols, symbols.shape"
   ]
  },
  {
   "cell_type": "code",
   "execution_count": 16,
   "metadata": {},
   "outputs": [
    {
     "name": "stdout",
     "output_type": "stream",
     "text": [
      "AAMC   new 5y  ok\n"
     ]
    }
   ],
   "source": [
    "# iex.init(key.test_token, api='sandbox')\n",
    "iex.init(key.token, api='cloud')\n",
    "\n",
    "for k in symbols:\n",
    "    sys.stdout.write('\\r{}   '.format(k))\n",
    "    filename = \"./adjustments/{}.csv\".format(k)\n",
    "    fetch_on_demand(filename, 'exDate', iex.Stock(k).dividends)\n",
    "print('ok')"
   ]
  },
  {
   "cell_type": "markdown",
   "metadata": {},
   "source": [
    "## Fetch stocks"
   ]
  },
  {
   "cell_type": "code",
   "execution_count": 10,
   "metadata": {},
   "outputs": [],
   "source": [
    "import requests\n",
    "import pandas as pd\n",
    "import time"
   ]
  },
  {
   "cell_type": "code",
   "execution_count": 6,
   "metadata": {},
   "outputs": [],
   "source": [
    "etfs = pd.read_html(requests.get('https://etfdailynews.com/etf/spy/', headers={'User-agent': 'Mozilla/5.0'}).text,\n",
    "             attrs={'id': 'etfs-that-own'})\n",
    "spy = [x for x in etfs[0].Symbol.values.tolist() if isinstance(x, str)]"
   ]
  },
  {
   "cell_type": "code",
   "execution_count": 23,
   "metadata": {},
   "outputs": [],
   "source": [
    "correction = {'PCLN':'BKNG', 'DWDP':'DD', 'CELG':'skip..', 'TWX':'skip..'} # 'CELG':'CELGRT'"
   ]
  },
  {
   "cell_type": "code",
   "execution_count": null,
   "metadata": {},
   "outputs": [],
   "source": []
  },
  {
   "cell_type": "code",
   "execution_count": 7,
   "metadata": {},
   "outputs": [],
   "source": []
  },
  {
   "cell_type": "code",
   "execution_count": 24,
   "metadata": {},
   "outputs": [
    {
     "name": "stdout",
     "output_type": "stream",
     "text": [
      "UPS   full\n",
      "NEE   full\n",
      "AXP   full\n",
      "CHTR   full\n",
      "CVS   full\n",
      "BLK   full\n"
     ]
    },
    {
     "ename": "Exception",
     "evalue": "GET https://cloud.iexapis.com/stable/stock/BLK/chart/max?token=pk_7cc910b360ea4a31813e0ca78a02243b 402 You have exceeded your allotted message quota. Please enable pay-as-you-go to regain access",
     "output_type": "error",
     "traceback": [
      "\u001b[1;31m---------------------------------------------------------------------------\u001b[0m",
      "\u001b[1;31mException\u001b[0m                                 Traceback (most recent call last)",
      "\u001b[1;32m<ipython-input-24-b5e145a52826>\u001b[0m in \u001b[0;36m<module>\u001b[1;34m\u001b[0m\n\u001b[0;32m     23\u001b[0m     \u001b[1;32melse\u001b[0m\u001b[1;33m:\u001b[0m\u001b[1;33m\u001b[0m\u001b[1;33m\u001b[0m\u001b[0m\n\u001b[0;32m     24\u001b[0m         \u001b[0mprint\u001b[0m\u001b[1;33m(\u001b[0m\u001b[1;34m'full'\u001b[0m\u001b[1;33m)\u001b[0m\u001b[1;33m\u001b[0m\u001b[1;33m\u001b[0m\u001b[0m\n\u001b[1;32m---> 25\u001b[1;33m         \u001b[0miex\u001b[0m\u001b[1;33m.\u001b[0m\u001b[0mStock\u001b[0m\u001b[1;33m(\u001b[0m\u001b[0mk\u001b[0m\u001b[1;33m)\u001b[0m\u001b[1;33m.\u001b[0m\u001b[0mchart\u001b[0m\u001b[1;33m(\u001b[0m\u001b[1;34m'max'\u001b[0m\u001b[1;33m)\u001b[0m\u001b[1;33m.\u001b[0m\u001b[0mto_csv\u001b[0m\u001b[1;33m(\u001b[0m\u001b[0mfilename\u001b[0m\u001b[1;33m)\u001b[0m\u001b[1;33m\u001b[0m\u001b[1;33m\u001b[0m\u001b[0m\n\u001b[0m\u001b[0;32m     26\u001b[0m \u001b[1;33m\u001b[0m\u001b[0m\n",
      "\u001b[1;32mc:\\xsoft\\fac\\fetchers\\iex_fetcher\\iex.py\u001b[0m in \u001b[0;36mchart\u001b[1;34m(self, range, **params)\u001b[0m\n\u001b[0;32m     52\u001b[0m         \u001b[1;31m# https://sandbox.iexapis.com/stable/stock/AAPL/chart/1m?token=Tpk_xxx\u001b[0m\u001b[1;33m\u001b[0m\u001b[1;33m\u001b[0m\u001b[1;33m\u001b[0m\u001b[0m\n\u001b[0;32m     53\u001b[0m         \u001b[0mpaths\u001b[0m \u001b[1;33m=\u001b[0m \u001b[1;33m[\u001b[0m\u001b[1;34m'stock'\u001b[0m\u001b[1;33m,\u001b[0m \u001b[0mself\u001b[0m\u001b[1;33m.\u001b[0m\u001b[0m_symbol\u001b[0m\u001b[1;33m,\u001b[0m \u001b[1;34m'chart'\u001b[0m\u001b[1;33m,\u001b[0m \u001b[0mrange\u001b[0m\u001b[1;33m]\u001b[0m\u001b[1;33m\u001b[0m\u001b[1;33m\u001b[0m\u001b[0m\n\u001b[1;32m---> 54\u001b[1;33m         \u001b[1;32mreturn\u001b[0m \u001b[0mself\u001b[0m\u001b[1;33m.\u001b[0m\u001b[0m_records\u001b[0m\u001b[1;33m(\u001b[0m\u001b[0mpaths\u001b[0m\u001b[1;33m,\u001b[0m \u001b[0mparams\u001b[0m\u001b[1;33m,\u001b[0m \u001b[1;34m'date'\u001b[0m\u001b[1;33m)\u001b[0m\u001b[1;33m\u001b[0m\u001b[1;33m\u001b[0m\u001b[0m\n\u001b[0m\u001b[0;32m     55\u001b[0m \u001b[1;33m\u001b[0m\u001b[0m\n\u001b[0;32m     56\u001b[0m     \u001b[1;32mdef\u001b[0m \u001b[0msplits\u001b[0m\u001b[1;33m(\u001b[0m\u001b[0mself\u001b[0m\u001b[1;33m,\u001b[0m \u001b[0mrange\u001b[0m\u001b[1;33m,\u001b[0m \u001b[1;33m**\u001b[0m\u001b[0mparams\u001b[0m\u001b[1;33m)\u001b[0m\u001b[1;33m:\u001b[0m\u001b[1;33m\u001b[0m\u001b[1;33m\u001b[0m\u001b[0m\n",
      "\u001b[1;32mc:\\xsoft\\fac\\fetchers\\iex_fetcher\\iex.py\u001b[0m in \u001b[0;36m_records\u001b[1;34m(cls, paths, params, date_col)\u001b[0m\n\u001b[0;32m     28\u001b[0m     \u001b[1;32mdef\u001b[0m \u001b[0m_records\u001b[0m\u001b[1;33m(\u001b[0m\u001b[0mcls\u001b[0m\u001b[1;33m,\u001b[0m \u001b[0mpaths\u001b[0m\u001b[1;33m,\u001b[0m \u001b[0mparams\u001b[0m\u001b[1;33m,\u001b[0m \u001b[0mdate_col\u001b[0m\u001b[1;33m)\u001b[0m\u001b[1;33m:\u001b[0m\u001b[1;33m\u001b[0m\u001b[1;33m\u001b[0m\u001b[0m\n\u001b[0;32m     29\u001b[0m         \u001b[1;34m\"\"\" Convert json to record orient df, and index as date_col \"\"\"\u001b[0m\u001b[1;33m\u001b[0m\u001b[1;33m\u001b[0m\u001b[0m\n\u001b[1;32m---> 30\u001b[1;33m         \u001b[0mjson_text\u001b[0m \u001b[1;33m=\u001b[0m \u001b[0mcls\u001b[0m\u001b[1;33m.\u001b[0m\u001b[0m_get\u001b[0m\u001b[1;33m(\u001b[0m\u001b[0mpaths\u001b[0m\u001b[1;33m,\u001b[0m \u001b[0mparams\u001b[0m\u001b[1;33m)\u001b[0m\u001b[1;33m\u001b[0m\u001b[1;33m\u001b[0m\u001b[0m\n\u001b[0m\u001b[0;32m     31\u001b[0m         \u001b[0mdf\u001b[0m \u001b[1;33m=\u001b[0m \u001b[0mpd\u001b[0m\u001b[1;33m.\u001b[0m\u001b[0mread_json\u001b[0m\u001b[1;33m(\u001b[0m\u001b[0mjson_text\u001b[0m\u001b[1;33m,\u001b[0m \u001b[0morient\u001b[0m\u001b[1;33m=\u001b[0m\u001b[1;34m'records'\u001b[0m\u001b[1;33m,\u001b[0m \u001b[0mconvert_dates\u001b[0m\u001b[1;33m=\u001b[0m\u001b[1;32mTrue\u001b[0m\u001b[1;33m)\u001b[0m\u001b[1;33m\u001b[0m\u001b[1;33m\u001b[0m\u001b[0m\n\u001b[0;32m     32\u001b[0m         \u001b[1;32mif\u001b[0m \u001b[0mlen\u001b[0m\u001b[1;33m(\u001b[0m\u001b[0mdf\u001b[0m\u001b[1;33m)\u001b[0m \u001b[1;33m==\u001b[0m \u001b[1;36m0\u001b[0m\u001b[1;33m:\u001b[0m\u001b[1;33m\u001b[0m\u001b[1;33m\u001b[0m\u001b[0m\n",
      "\u001b[1;32mc:\\xsoft\\fac\\fetchers\\iex_fetcher\\iex.py\u001b[0m in \u001b[0;36m_get\u001b[1;34m(cls, paths, params, parse)\u001b[0m\n\u001b[0;32m     22\u001b[0m         \u001b[0mresp\u001b[0m \u001b[1;33m=\u001b[0m \u001b[0mrequests\u001b[0m\u001b[1;33m.\u001b[0m\u001b[0mget\u001b[0m\u001b[1;33m(\u001b[0m\u001b[0murl\u001b[0m\u001b[1;33m)\u001b[0m\u001b[1;33m\u001b[0m\u001b[1;33m\u001b[0m\u001b[0m\n\u001b[0;32m     23\u001b[0m         \u001b[1;32mif\u001b[0m \u001b[0mresp\u001b[0m\u001b[1;33m.\u001b[0m\u001b[0mstatus_code\u001b[0m \u001b[1;33m!=\u001b[0m \u001b[1;36m200\u001b[0m\u001b[1;33m:\u001b[0m\u001b[1;33m\u001b[0m\u001b[1;33m\u001b[0m\u001b[0m\n\u001b[1;32m---> 24\u001b[1;33m             \u001b[1;32mraise\u001b[0m \u001b[0mException\u001b[0m\u001b[1;33m(\u001b[0m\u001b[1;34m'GET {} {} {}'\u001b[0m\u001b[1;33m.\u001b[0m\u001b[0mformat\u001b[0m\u001b[1;33m(\u001b[0m\u001b[0murl\u001b[0m\u001b[1;33m,\u001b[0m \u001b[0mresp\u001b[0m\u001b[1;33m.\u001b[0m\u001b[0mstatus_code\u001b[0m\u001b[1;33m,\u001b[0m \u001b[0mresp\u001b[0m\u001b[1;33m.\u001b[0m\u001b[0mtext\u001b[0m\u001b[1;33m)\u001b[0m\u001b[1;33m)\u001b[0m\u001b[1;33m\u001b[0m\u001b[1;33m\u001b[0m\u001b[0m\n\u001b[0m\u001b[0;32m     25\u001b[0m         \u001b[1;32mreturn\u001b[0m \u001b[0mresp\u001b[0m\u001b[1;33m.\u001b[0m\u001b[0mjson\u001b[0m\u001b[1;33m(\u001b[0m\u001b[1;33m)\u001b[0m \u001b[1;32mif\u001b[0m \u001b[0mparse\u001b[0m \u001b[1;32melse\u001b[0m \u001b[0mresp\u001b[0m\u001b[1;33m.\u001b[0m\u001b[0mtext\u001b[0m\u001b[1;33m\u001b[0m\u001b[1;33m\u001b[0m\u001b[0m\n\u001b[0;32m     26\u001b[0m \u001b[1;33m\u001b[0m\u001b[0m\n",
      "\u001b[1;31mException\u001b[0m: GET https://cloud.iexapis.com/stable/stock/BLK/chart/max?token=pk_7cc910b360ea4a31813e0ca78a02243b 402 You have exceeded your allotted message quota. Please enable pay-as-you-go to regain access"
     ]
    }
   ],
   "source": [
    "# iex.init(key.test_token, api='sandbox')\n",
    "iex.init(key.token, api='cloud')\n",
    "\n",
    "# save historical price to disk\n",
    "for k in spy:\n",
    "    k = correction[k] if k in correction else k\n",
    "    if k =='skip..': continue\n",
    "    sys.stdout.write('\\r{}   '.format(k))\n",
    "    filename = \"./daily/{}.csv\".format(k)\n",
    "    fetch_on_demand\n",
    "    \n",
    "    if os.path.exists(filename):\n",
    "        # fetcher missing period\n",
    "        df = pd.read_csv(filename, index_col='date', parse_dates=True)\n",
    "        days = pd.Timedelta(pd.datetime.now() - df.index[-1]).days\n",
    "        bdays = len(pd.bdate_range(df.index[-1], pd.datetime.now())) - 1\n",
    "        for day, param in chart_range:\n",
    "            if bdays <= 0:\n",
    "                break\n",
    "            elif days < day:\n",
    "                print(param)\n",
    "                df_append = iex.Stock(k).chart(param)\n",
    "                pd.concat([df, df_append], sort=True).to_csv(filename)\n",
    "                break\n",
    "    else:\n",
    "        print('full')\n",
    "        iex.Stock(k).chart('5y').to_csv(filename)\n",
    "    \n"
   ]
  },
  {
   "cell_type": "code",
   "execution_count": null,
   "metadata": {},
   "outputs": [],
   "source": []
  },
  {
   "cell_type": "code",
   "execution_count": null,
   "metadata": {},
   "outputs": [],
   "source": []
  },
  {
   "cell_type": "code",
   "execution_count": 3,
   "metadata": {},
   "outputs": [],
   "source": [
    "df = aapl.chart('5d')"
   ]
  },
  {
   "cell_type": "code",
   "execution_count": 5,
   "metadata": {},
   "outputs": [
    {
     "data": {
      "text/plain": [
       "dtype('<M8[ns]')"
      ]
     },
     "execution_count": 5,
     "metadata": {},
     "output_type": "execute_result"
    }
   ],
   "source": [
    "df.index.dtype"
   ]
  },
  {
   "cell_type": "code",
   "execution_count": 14,
   "metadata": {},
   "outputs": [
    {
     "data": {
      "text/plain": [
       "True"
      ]
     },
     "execution_count": 14,
     "metadata": {},
     "output_type": "execute_result"
    }
   ],
   "source": [
    "isinstance(df.index, pd.DatetimeIndex)"
   ]
  },
  {
   "cell_type": "code",
   "execution_count": 13,
   "metadata": {},
   "outputs": [
    {
     "data": {
      "text/plain": [
       "DatetimeIndex(['2019-10-21', '2019-10-22', '2019-10-23', '2019-10-24',\n",
       "               '2019-10-25'],\n",
       "              dtype='datetime64[ns]', name='date', freq=None)"
      ]
     },
     "execution_count": 13,
     "metadata": {},
     "output_type": "execute_result"
    }
   ],
   "source": [
    "df.index"
   ]
  }
 ],
 "metadata": {
  "kernelspec": {
   "display_name": "Python [conda env:py37]",
   "language": "python",
   "name": "conda-env-py37-py"
  },
  "language_info": {
   "codemirror_mode": {
    "name": "ipython",
    "version": 3
   },
   "file_extension": ".py",
   "mimetype": "text/x-python",
   "name": "python",
   "nbconvert_exporter": "python",
   "pygments_lexer": "ipython3",
   "version": "3.7.5"
  }
 },
 "nbformat": 4,
 "nbformat_minor": 4
}
