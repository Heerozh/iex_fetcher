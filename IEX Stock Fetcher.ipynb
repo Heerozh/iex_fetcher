{
 "cells": [
  {
   "cell_type": "markdown",
   "metadata": {},
   "source": [
    "# Simple IEX Stock Fetcher\n",
    "\n"
   ]
  },
  {
   "cell_type": "markdown",
   "metadata": {},
   "source": [
    "## Test api"
   ]
  },
  {
   "cell_type": "code",
   "execution_count": 1,
   "metadata": {},
   "outputs": [
    {
     "ename": "SyntaxError",
     "evalue": "invalid syntax (iex.py, line 25)",
     "output_type": "error",
     "traceback": [
      "Traceback \u001b[1;36m(most recent call last)\u001b[0m:\n",
      "  File \u001b[0;32m\"C:\\Miniconda3\\envs\\spectre\\lib\\site-packages\\IPython\\core\\interactiveshell.py\"\u001b[0m, line \u001b[0;32m3319\u001b[0m, in \u001b[0;35mrun_code\u001b[0m\n    exec(code_obj, self.user_global_ns, self.user_ns)\n",
      "\u001b[1;36m  File \u001b[1;32m\"<ipython-input-1-183ee61f62ba>\"\u001b[1;36m, line \u001b[1;32m1\u001b[1;36m, in \u001b[1;35m<module>\u001b[1;36m\u001b[0m\n\u001b[1;33m    import iex\u001b[0m\n",
      "\u001b[1;36m  File \u001b[1;32m\"c:\\xsoft\\fac\\fetchers\\iex_fetcher\\iex.py\"\u001b[1;36m, line \u001b[1;32m25\u001b[0m\n\u001b[1;33m    except ConnectionError e:\u001b[0m\n\u001b[1;37m                           ^\u001b[0m\n\u001b[1;31mSyntaxError\u001b[0m\u001b[1;31m:\u001b[0m invalid syntax\n"
     ]
    }
   ],
   "source": [
    "import iex\n",
    "import key\n",
    "iex.init(key.test_token, api='sandbox')\n",
    "aapl = iex.Stock('AAPL')\n",
    "aapl.chart('5d', chartCloseOnly=True)"
   ]
  },
  {
   "cell_type": "code",
   "execution_count": 2,
   "metadata": {},
   "outputs": [
    {
     "data": {
      "text/html": [
       "<div>\n",
       "<style scoped>\n",
       "    .dataframe tbody tr th:only-of-type {\n",
       "        vertical-align: middle;\n",
       "    }\n",
       "\n",
       "    .dataframe tbody tr th {\n",
       "        vertical-align: top;\n",
       "    }\n",
       "\n",
       "    .dataframe thead th {\n",
       "        text-align: right;\n",
       "    }\n",
       "</style>\n",
       "<table border=\"1\" class=\"dataframe\">\n",
       "  <thead>\n",
       "    <tr style=\"text-align: right;\">\n",
       "      <th></th>\n",
       "      <th>paymentDate</th>\n",
       "      <th>recordDate</th>\n",
       "      <th>declaredDate</th>\n",
       "      <th>amount</th>\n",
       "      <th>flag</th>\n",
       "      <th>currency</th>\n",
       "      <th>description</th>\n",
       "      <th>frequency</th>\n",
       "      <th>date</th>\n",
       "    </tr>\n",
       "    <tr>\n",
       "      <th>exDate</th>\n",
       "      <th></th>\n",
       "      <th></th>\n",
       "      <th></th>\n",
       "      <th></th>\n",
       "      <th></th>\n",
       "      <th></th>\n",
       "      <th></th>\n",
       "      <th></th>\n",
       "      <th></th>\n",
       "    </tr>\n",
       "  </thead>\n",
       "  <tbody>\n",
       "    <tr>\n",
       "      <th>2019-11-17</th>\n",
       "      <td>2019-11-23</td>\n",
       "      <td>2019-11-16</td>\n",
       "      <td>2019-11-01</td>\n",
       "      <td>0.79</td>\n",
       "      <td>Chas</td>\n",
       "      <td>USD</td>\n",
       "      <td>Od Seyhrnrsiaar</td>\n",
       "      <td>reqrltauy</td>\n",
       "      <td>2019-12-07</td>\n",
       "    </tr>\n",
       "    <tr>\n",
       "      <th>2019-08-10</th>\n",
       "      <td>2019-08-22</td>\n",
       "      <td>2019-08-21</td>\n",
       "      <td>2019-08-07</td>\n",
       "      <td>0.78</td>\n",
       "      <td>aCsh</td>\n",
       "      <td>USD</td>\n",
       "      <td>irraSyn ershOad</td>\n",
       "      <td>yaruqtrle</td>\n",
       "      <td>2019-12-07</td>\n",
       "    </tr>\n",
       "    <tr>\n",
       "      <th>2019-05-20</th>\n",
       "      <td>2019-05-29</td>\n",
       "      <td>2019-05-17</td>\n",
       "      <td>2019-05-13</td>\n",
       "      <td>0.81</td>\n",
       "      <td>hasC</td>\n",
       "      <td>USD</td>\n",
       "      <td>s eahndrSyrrOai</td>\n",
       "      <td>tarleyuqr</td>\n",
       "      <td>2019-12-07</td>\n",
       "    </tr>\n",
       "    <tr>\n",
       "      <th>2019-02-11</th>\n",
       "      <td>2019-02-17</td>\n",
       "      <td>2019-02-22</td>\n",
       "      <td>2019-02-01</td>\n",
       "      <td>0.74</td>\n",
       "      <td>ahsC</td>\n",
       "      <td>USD</td>\n",
       "      <td>raahedyOsn rriS</td>\n",
       "      <td>erqulytar</td>\n",
       "      <td>2019-12-07</td>\n",
       "    </tr>\n",
       "  </tbody>\n",
       "</table>\n",
       "</div>"
      ],
      "text/plain": [
       "           paymentDate  recordDate declaredDate  amount  flag currency  \\\n",
       "exDate                                                                   \n",
       "2019-11-17  2019-11-23  2019-11-16   2019-11-01    0.79  Chas      USD   \n",
       "2019-08-10  2019-08-22  2019-08-21   2019-08-07    0.78  aCsh      USD   \n",
       "2019-05-20  2019-05-29  2019-05-17   2019-05-13    0.81  hasC      USD   \n",
       "2019-02-11  2019-02-17  2019-02-22   2019-02-01    0.74  ahsC      USD   \n",
       "\n",
       "                description  frequency       date  \n",
       "exDate                                             \n",
       "2019-11-17  Od Seyhrnrsiaar  reqrltauy 2019-12-07  \n",
       "2019-08-10  irraSyn ershOad  yaruqtrle 2019-12-07  \n",
       "2019-05-20  s eahndrSyrrOai  tarleyuqr 2019-12-07  \n",
       "2019-02-11  raahedyOsn rriS  erqulytar 2019-12-07  "
      ]
     },
     "execution_count": 2,
     "metadata": {},
     "output_type": "execute_result"
    }
   ],
   "source": [
    "aapl.dividends('1y')"
   ]
  },
  {
   "cell_type": "code",
   "execution_count": 14,
   "metadata": {},
   "outputs": [
    {
     "data": {
      "text/html": [
       "<div>\n",
       "<style scoped>\n",
       "    .dataframe tbody tr th:only-of-type {\n",
       "        vertical-align: middle;\n",
       "    }\n",
       "\n",
       "    .dataframe tbody tr th {\n",
       "        vertical-align: top;\n",
       "    }\n",
       "\n",
       "    .dataframe thead th {\n",
       "        text-align: right;\n",
       "    }\n",
       "</style>\n",
       "<table border=\"1\" class=\"dataframe\">\n",
       "  <thead>\n",
       "    <tr style=\"text-align: right;\">\n",
       "      <th></th>\n",
       "      <th>paymentDate</th>\n",
       "      <th>recordDate</th>\n",
       "      <th>declaredDate</th>\n",
       "      <th>amount</th>\n",
       "      <th>flag</th>\n",
       "      <th>currency</th>\n",
       "      <th>description</th>\n",
       "      <th>frequency</th>\n",
       "      <th>date</th>\n",
       "    </tr>\n",
       "    <tr>\n",
       "      <th>exDate</th>\n",
       "      <th></th>\n",
       "      <th></th>\n",
       "      <th></th>\n",
       "      <th></th>\n",
       "      <th></th>\n",
       "      <th></th>\n",
       "      <th></th>\n",
       "      <th></th>\n",
       "      <th></th>\n",
       "    </tr>\n",
       "  </thead>\n",
       "  <tbody>\n",
       "    <tr>\n",
       "      <th>2019-11-07</th>\n",
       "      <td>2019-11-14</td>\n",
       "      <td>2019-11-11</td>\n",
       "      <td>2019-10-30</td>\n",
       "      <td>0.77</td>\n",
       "      <td>Cash</td>\n",
       "      <td>USD</td>\n",
       "      <td>Ordinary Shares</td>\n",
       "      <td>quarterly</td>\n",
       "      <td>2019-12-07</td>\n",
       "    </tr>\n",
       "    <tr>\n",
       "      <th>2019-08-09</th>\n",
       "      <td>2019-08-15</td>\n",
       "      <td>2019-08-12</td>\n",
       "      <td>2019-07-30</td>\n",
       "      <td>0.77</td>\n",
       "      <td>Cash</td>\n",
       "      <td>USD</td>\n",
       "      <td>Ordinary Shares</td>\n",
       "      <td>quarterly</td>\n",
       "      <td>2019-12-07</td>\n",
       "    </tr>\n",
       "    <tr>\n",
       "      <th>2019-05-10</th>\n",
       "      <td>2019-05-16</td>\n",
       "      <td>2019-05-13</td>\n",
       "      <td>2019-04-30</td>\n",
       "      <td>0.77</td>\n",
       "      <td>Cash</td>\n",
       "      <td>USD</td>\n",
       "      <td>Ordinary Shares</td>\n",
       "      <td>quarterly</td>\n",
       "      <td>2019-12-07</td>\n",
       "    </tr>\n",
       "    <tr>\n",
       "      <th>2019-02-08</th>\n",
       "      <td>2019-02-14</td>\n",
       "      <td>2019-02-11</td>\n",
       "      <td>2019-01-29</td>\n",
       "      <td>0.73</td>\n",
       "      <td>Cash</td>\n",
       "      <td>USD</td>\n",
       "      <td>Ordinary Shares</td>\n",
       "      <td>quarterly</td>\n",
       "      <td>2019-12-07</td>\n",
       "    </tr>\n",
       "  </tbody>\n",
       "</table>\n",
       "</div>"
      ],
      "text/plain": [
       "           paymentDate  recordDate declaredDate  amount  flag currency  \\\n",
       "exDate                                                                   \n",
       "2019-11-07  2019-11-14  2019-11-11   2019-10-30    0.77  Cash      USD   \n",
       "2019-08-09  2019-08-15  2019-08-12   2019-07-30    0.77  Cash      USD   \n",
       "2019-05-10  2019-05-16  2019-05-13   2019-04-30    0.77  Cash      USD   \n",
       "2019-02-08  2019-02-14  2019-02-11   2019-01-29    0.73  Cash      USD   \n",
       "\n",
       "                description  frequency       date  \n",
       "exDate                                             \n",
       "2019-11-07  Ordinary Shares  quarterly 2019-12-07  \n",
       "2019-08-09  Ordinary Shares  quarterly 2019-12-07  \n",
       "2019-05-10  Ordinary Shares  quarterly 2019-12-07  \n",
       "2019-02-08  Ordinary Shares  quarterly 2019-12-07  "
      ]
     },
     "execution_count": 14,
     "metadata": {},
     "output_type": "execute_result"
    }
   ],
   "source": [
    "# iex.init(key.token, api='cloud')\n",
    "# aapl.dividends('1y')"
   ]
  },
  {
   "cell_type": "code",
   "execution_count": 2,
   "metadata": {},
   "outputs": [
    {
     "data": {
      "text/html": [
       "<div>\n",
       "<style scoped>\n",
       "    .dataframe tbody tr th:only-of-type {\n",
       "        vertical-align: middle;\n",
       "    }\n",
       "\n",
       "    .dataframe tbody tr th {\n",
       "        vertical-align: top;\n",
       "    }\n",
       "\n",
       "    .dataframe thead th {\n",
       "        text-align: right;\n",
       "    }\n",
       "</style>\n",
       "<table border=\"1\" class=\"dataframe\">\n",
       "  <thead>\n",
       "    <tr style=\"text-align: right;\">\n",
       "      <th></th>\n",
       "      <th>declaredDate</th>\n",
       "      <th>ratio</th>\n",
       "      <th>toFactor</th>\n",
       "      <th>fromFactor</th>\n",
       "      <th>description</th>\n",
       "      <th>date</th>\n",
       "    </tr>\n",
       "    <tr>\n",
       "      <th>exDate</th>\n",
       "      <th></th>\n",
       "      <th></th>\n",
       "      <th></th>\n",
       "      <th></th>\n",
       "      <th></th>\n",
       "      <th></th>\n",
       "    </tr>\n",
       "  </thead>\n",
       "  <tbody>\n",
       "    <tr>\n",
       "      <th>2019-06-18</th>\n",
       "      <td>2019-06-13</td>\n",
       "      <td>0.673858</td>\n",
       "      <td>3</td>\n",
       "      <td>2</td>\n",
       "      <td>i-rp2fS t3-ol</td>\n",
       "      <td>2019-12-07</td>\n",
       "    </tr>\n",
       "    <tr>\n",
       "      <th>2019-06-20</th>\n",
       "      <td>2019-06-08</td>\n",
       "      <td>0.672697</td>\n",
       "      <td>3</td>\n",
       "      <td>2</td>\n",
       "      <td>ptoiSr- 23-lf</td>\n",
       "      <td>2019-12-07</td>\n",
       "    </tr>\n",
       "  </tbody>\n",
       "</table>\n",
       "</div>"
      ],
      "text/plain": [
       "           declaredDate     ratio  toFactor  fromFactor    description  \\\n",
       "exDate                                                                   \n",
       "2019-06-18   2019-06-13  0.673858         3           2  i-rp2fS t3-ol   \n",
       "2019-06-20   2019-06-08  0.672697         3           2  ptoiSr- 23-lf   \n",
       "\n",
       "                 date  \n",
       "exDate                 \n",
       "2019-06-18 2019-12-07  \n",
       "2019-06-20 2019-12-07  "
      ]
     },
     "execution_count": 2,
     "metadata": {},
     "output_type": "execute_result"
    }
   ],
   "source": [
    "iex.Stock('AIRT').splits('5y')"
   ]
  },
  {
   "cell_type": "markdown",
   "metadata": {},
   "source": [
    "# Fetch Symobols"
   ]
  },
  {
   "cell_type": "code",
   "execution_count": 5,
   "metadata": {},
   "outputs": [],
   "source": [
    "import pandas as pd\n",
    "# 这东西得每天都可以更新下\n",
    "symbols_path = \"../../historical_data/us/prices/iex/symbols.csv\"\n",
    "old_symbols = pd.read_csv(symbols_path, index_col='date')\n",
    "\n",
    "iex.init(key.token, api='cloud')\n",
    "symbols = iex.Reference.symbols()\n",
    "iex.init(key.test_token, api='sandbox')\n",
    "\n",
    "symbols = pd.concat([old_symbols, symbols], sort=False)\n",
    "symbols.to_csv(symbols_path)"
   ]
  },
  {
   "cell_type": "markdown",
   "metadata": {},
   "source": [
    "type\trefers to the common issue type\n",
    "\n",
    "    ad - ADR\n",
    "    re - REIT\n",
    "    ce - Closed end fund\n",
    "    si - Secondary Issue\n",
    "    lp - Limited Partnerships\n",
    "    cs - Common Stock\n",
    "    et - ETF\n",
    "    wt - Warrant\n",
    "    oef - Open Ended Fund\n",
    "    cef - Closed Ended Fund\n",
    "    ps - Preferred Stock\n",
    "    ut - Unit\n",
    "    struct - Structured Product"
   ]
  },
  {
   "cell_type": "code",
   "execution_count": 9,
   "metadata": {},
   "outputs": [
    {
     "data": {
      "text/plain": [
       "type\n",
       "ad         403\n",
       "cef        505\n",
       "cs        4534\n",
       "et        2340\n",
       "ps         762\n",
       "rt          22\n",
       "struct       2\n",
       "temp         2\n",
       "ut         116\n",
       "wt         178\n",
       "Name: symbol, dtype: int64"
      ]
     },
     "execution_count": 9,
     "metadata": {},
     "output_type": "execute_result"
    }
   ],
   "source": [
    "symbols.loc[symbols.index[-1]].groupby('type').symbol.count()"
   ]
  },
  {
   "cell_type": "markdown",
   "metadata": {},
   "source": [
    "# Fetch Sectors"
   ]
  },
  {
   "cell_type": "code",
   "execution_count": 3,
   "metadata": {},
   "outputs": [],
   "source": [
    "# 获取保存行业列表\n",
    "iex.init(key.token, api='cloud')\n",
    "iex_path = \"../../historical_data/us/prices/iex/\"\n",
    "df = iex.Reference.sectors()\n",
    "df.to_csv(iex_path + 'sectors.csv')\n",
    "df = iex.Reference.tags()\n",
    "df.to_csv(iex_path + 'tags.csv')"
   ]
  },
  {
   "cell_type": "markdown",
   "metadata": {},
   "source": [
    "### Fetch Companys"
   ]
  },
  {
   "cell_type": "code",
   "execution_count": 1,
   "metadata": {},
   "outputs": [
    {
     "name": "stdout",
     "output_type": "stream",
     "text": [
      "2019-12-20 00:00:00\n"
     ]
    },
    {
     "data": {
      "text/plain": [
       "(array(['A', 'AA', 'AACG', ..., 'ZYXI', 'SPY', 'QQQ'], dtype=object), (4938,))"
      ]
     },
     "execution_count": 1,
     "metadata": {},
     "output_type": "execute_result"
    }
   ],
   "source": [
    "import pandas as pd\n",
    "import numpy as np\n",
    "symbols_path = \"../../historical_data/us/prices/iex/symbols.csv\"\n",
    "symbols = pd.read_csv(symbols_path, index_col='date', parse_dates=True)\n",
    "# select last date\n",
    "symbols = symbols.loc[symbols.index[-1]]\n",
    "print(symbols.index[0])\n",
    "\n",
    "symbols = symbols[(symbols.type == 'ad') | (symbols.type == 'cs') & (symbols.exchange != 'OTC')]\n",
    "symbols = symbols.symbol.values\n",
    "symbols = np.append(symbols, ['SPY', 'QQQ'])\n",
    "symbols, symbols.shape"
   ]
  },
  {
   "cell_type": "code",
   "execution_count": 2,
   "metadata": {},
   "outputs": [
    {
     "data": {
      "application/vnd.jupyter.widget-view+json": {
       "model_id": "b7ac5cb1c2364495903b4875ce5fef7d",
       "version_major": 2,
       "version_minor": 0
      },
      "text/plain": [
       "HBox(children=(FloatProgress(value=0.0, max=4814.0), HTML(value='')))"
      ]
     },
     "metadata": {},
     "output_type": "display_data"
    },
    {
     "name": "stdout",
     "output_type": "stream",
     "text": [
      "\n"
     ]
    }
   ],
   "source": [
    "import iex\n",
    "import key\n",
    "from tqdm.notebook import tqdm\n",
    "iex_path = \"../../historical_data/us/prices/iex/\"\n",
    "\n",
    "# iex.init(key.test_token, api='sandbox')\n",
    "iex.init(key.token, api='cloud')\n",
    "\n",
    "old_companys = pd.read_csv(iex_path + 'companys.csv', index_col='symbol')\n",
    "symbols = set(symbols) - set(old_companys.index)\n",
    "\n",
    "companys_list = []\n",
    "for k in tqdm(symbols):\n",
    "    try:\n",
    "        companys_list.append(iex.Stock(k).company())\n",
    "    except ConnectionError as e:\n",
    "        print(e)\n",
    "    \n",
    "companys = pd.DataFrame(companys_list)\n",
    "companys = companys.set_index('symbol')\n",
    "old_companys = old_companys[~old_companys.index.isin(companys.index)]\n",
    "companys = pd.concat([old_companys, companys], sort=False)\n",
    "companys.to_csv(iex_path + 'companys.csv')"
   ]
  },
  {
   "cell_type": "markdown",
   "metadata": {},
   "source": [
    "# iex的数据问题\n",
    "split有很多重复数据，且部分股票比如TR完全没split数据，虽然他分的少100-103"
   ]
  },
  {
   "cell_type": "markdown",
   "metadata": {},
   "source": [
    "# Fetcher Functions"
   ]
  },
  {
   "cell_type": "code",
   "execution_count": 10,
   "metadata": {},
   "outputs": [],
   "source": [
    "import os, sys\n",
    "import pandas as pd\n",
    "chart_range = [(5,'5d'), (20,'1m'), (75,'3m'), (165,'6m'), (341,'1y'), (715,'2y'), (99999, '5y')]\n",
    "\n",
    "def range_since_last(df, update_date_col):\n",
    "    if update_date_col is None:\n",
    "        update_at = df.index[-1]\n",
    "    else:\n",
    "        update_at = df[update_date_col].iloc[-1]\n",
    "    update_at = pd.Timestamp(update_at)\n",
    "    days = pd.Timedelta(pd.datetime.now() - update_at).days\n",
    "    bdays = len(pd.bdate_range(update_at, pd.datetime.now())) - 1\n",
    "    if bdays <= 0:\n",
    "        return None\n",
    "    for range_, param in chart_range:\n",
    "        if days < range_:\n",
    "            return param\n",
    "    return '5y'\n",
    "\n",
    "def fetch_on_demand(filename, index_col, update_date_col, fetch_call):\n",
    "    if os.path.exists(filename):\n",
    "        df = pd.read_csv(filename, index_col=index_col, parse_dates=True)\n",
    "        param = range_since_last(df, update_date_col)\n",
    "        sys.stdout.write(str(param) + \"      \")\n",
    "        if param is None:\n",
    "            return\n",
    "        # fetcher missing period\n",
    "        try:\n",
    "            df_append = fetch_call(param)\n",
    "        except EOFError:  # empty data\n",
    "            # update last fetch date only\n",
    "            if update_date_col is not None:\n",
    "                df.loc[df.index[-1], update_date_col] = pd.datetime.now()\n",
    "                df.to_csv(filename)\n",
    "            return\n",
    "        # 注意，必须小心的处理duplication，因为div的dup是相加的\n",
    "        # 首先drop_duplicates不考虑index, 所以日期不同的内容相同会被drop\n",
    "        # df = df_append.combine_first(df) 对有重复数据的分红不行，会重复行\n",
    "        # 所以简单的cancat然后drop\n",
    "        df = pd.concat([df, df_append], sort=False)\n",
    "        df = df.reset_index().drop_duplicates()\n",
    "        df = df.set_index(index_col)\n",
    "        df.sort_index(inplace=True)\n",
    "        df.to_csv(filename)\n",
    "    else:\n",
    "        sys.stdout.write('new 5y     ')\n",
    "        try:\n",
    "            df = fetch_call('5y')\n",
    "        except EOFError:  # empty data\n",
    "            # save last fetch date to csv\n",
    "            if update_date_col is not None:\n",
    "                pd.DataFrame([[np.nan, pd.datetime.now()]], columns=[index_col, update_date_col]).to_csv(\n",
    "                    filename, index=False)\n",
    "            return\n",
    "        df.sort_index(inplace=True)\n",
    "        df.to_csv(filename)"
   ]
  },
  {
   "cell_type": "markdown",
   "metadata": {},
   "source": [
    "## Fetch Adjustments"
   ]
  },
  {
   "cell_type": "code",
   "execution_count": 36,
   "metadata": {},
   "outputs": [
    {
     "name": "stdout",
     "output_type": "stream",
     "text": [
      "2019-12-11 00:00:00\n"
     ]
    },
    {
     "data": {
      "text/plain": [
       "(array(['A', 'AA', 'AACG', ..., 'ZYXI', 'SPY', 'QQQ'], dtype=object), (4939,))"
      ]
     },
     "execution_count": 36,
     "metadata": {},
     "output_type": "execute_result"
    }
   ],
   "source": [
    "import numpy as np\n",
    "symbols_path = \"../../historical_data/us/prices/iex/symbols.csv\"\n",
    "symbols = pd.read_csv(symbols_path, index_col='date', parse_dates=True)\n",
    "# select last date\n",
    "symbols = symbols.loc[symbols.index[-1]]\n",
    "print(symbols.index[0])\n",
    "\n",
    "symbols = symbols[(symbols.type == 'ad') | (symbols.type == 'cs') & (symbols.exchange != 'OTC')]\n",
    "symbols = symbols.symbol.values\n",
    "symbols = np.append(symbols, ['SPY', 'QQQ'])\n",
    "symbols, symbols.shape"
   ]
  },
  {
   "cell_type": "code",
   "execution_count": 7,
   "metadata": {},
   "outputs": [
    {
     "data": {
      "application/vnd.jupyter.widget-view+json": {
       "model_id": "6f195ee019a44ac383d01a0daef47562",
       "version_major": 2,
       "version_minor": 0
      },
      "text/plain": [
       "HBox(children=(FloatProgress(value=0.0, max=4940.0), HTML(value='')))"
      ]
     },
     "metadata": {},
     "output_type": "display_data"
    },
    {
     "name": "stdout",
     "output_type": "stream",
     "text": [
      "QQQ   new 5y        \n",
      "ok\n"
     ]
    }
   ],
   "source": [
    "from tqdm.notebook import tqdm\n",
    "\n",
    "# iex.init(key.test_token, api='sandbox')\n",
    "iex.init(key.token, api='cloud')\n",
    " \n",
    "for k in tqdm(symbols):\n",
    "    sys.stdout.write('\\r{}   '.format(k))\n",
    "    filename = \"./dividends/{}.csv\".format(k)\n",
    "    fetch_on_demand(filename, 'exDate', 'date', iex.Stock(k).dividends)\n",
    "print('ok')"
   ]
  },
  {
   "cell_type": "code",
   "execution_count": 6,
   "metadata": {},
   "outputs": [
    {
     "data": {
      "application/vnd.jupyter.widget-view+json": {
       "model_id": "b0940137fc1645e496a37c0a0c37600e",
       "version_major": 2,
       "version_minor": 0
      },
      "text/plain": [
       "HBox(children=(FloatProgress(value=0.0, max=4940.0), HTML(value='')))"
      ]
     },
     "metadata": {},
     "output_type": "display_data"
    },
    {
     "name": "stdout",
     "output_type": "stream",
     "text": [
      "QQQ   None         ne      None      None      None      None      None      None      None      None      None      None      None      None      None      None      None      None      None      None      None      None      None      None      None      None      None      None      None      None      None      None      None      None      None      None      None      None      None      None      None      None      None      None      None      None      None      None      None      None      None      None      None      None      None      None      None      None      None      None      None      None      None      None      None      None      None      \n",
      "ok\n"
     ]
    }
   ],
   "source": [
    "from tqdm.notebook import tqdm\n",
    "\n",
    "# iex.init(key.test_token, api='sandbox')\n",
    "iex.init(key.token, api='cloud')\n",
    "\n",
    "for k in tqdm(symbols):\n",
    "    sys.stdout.write('\\r{}   '.format(k))\n",
    "    filename = \"./splits/{}.csv\".format(k)\n",
    "    fetch_on_demand(filename, 'exDate', 'date', iex.Stock(k).splits)\n",
    "print('ok')"
   ]
  },
  {
   "cell_type": "markdown",
   "metadata": {},
   "source": [
    "iex获取的数据还是有错，比如AIRT，要yahoo交叉验证"
   ]
  },
  {
   "cell_type": "markdown",
   "metadata": {},
   "source": [
    "## Fetch stocks"
   ]
  },
  {
   "cell_type": "code",
   "execution_count": 21,
   "metadata": {},
   "outputs": [
    {
     "data": {
      "text/plain": [
       "(870,)"
      ]
     },
     "execution_count": 21,
     "metadata": {},
     "output_type": "execute_result"
    }
   ],
   "source": [
    "import pandas as pd\n",
    "symbols = pd.read_csv('top550.csv', header=None)\n",
    "symbols = symbols[1].values\n",
    "symbols.shape"
   ]
  },
  {
   "cell_type": "code",
   "execution_count": 24,
   "metadata": {},
   "outputs": [
    {
     "data": {
      "application/vnd.jupyter.widget-view+json": {
       "model_id": "51871370856146108c6336a2c036d7d0",
       "version_major": 2,
       "version_minor": 0
      },
      "text/plain": [
       "HBox(children=(FloatProgress(value=0.0, max=870.0), HTML(value='')))"
      ]
     },
     "metadata": {},
     "output_type": "display_data"
    },
    {
     "name": "stdout",
     "output_type": "stream",
     "text": [
      "PGR   new 5y       "
     ]
    },
    {
     "ename": "Exception",
     "evalue": "GET https://cloud.iexapis.com/stable/stock/PGR/chart/5y?changeFromClose=True&token=pk_48abaf9c2c4f45d9adddf765ca12e400 402 You have exceeded your allotted message quota. Please enable pay-as-you-go to regain access",
     "output_type": "error",
     "traceback": [
      "\u001b[1;31m---------------------------------------------------------------------------\u001b[0m",
      "\u001b[1;31mException\u001b[0m                                 Traceback (most recent call last)",
      "\u001b[1;32m<ipython-input-24-d42f2fb76949>\u001b[0m in \u001b[0;36m<module>\u001b[1;34m\u001b[0m\n\u001b[0;32m      9\u001b[0m     \u001b[1;32mdef\u001b[0m \u001b[0m_chart\u001b[0m\u001b[1;33m(\u001b[0m\u001b[0mparam\u001b[0m\u001b[1;33m)\u001b[0m\u001b[1;33m:\u001b[0m\u001b[1;33m\u001b[0m\u001b[1;33m\u001b[0m\u001b[0m\n\u001b[0;32m     10\u001b[0m         \u001b[1;32mreturn\u001b[0m \u001b[0miex\u001b[0m\u001b[1;33m.\u001b[0m\u001b[0mStock\u001b[0m\u001b[1;33m(\u001b[0m\u001b[0mk\u001b[0m\u001b[1;33m)\u001b[0m\u001b[1;33m.\u001b[0m\u001b[0mchart\u001b[0m\u001b[1;33m(\u001b[0m\u001b[0mparam\u001b[0m\u001b[1;33m,\u001b[0m \u001b[0mchangeFromClose\u001b[0m\u001b[1;33m=\u001b[0m\u001b[1;32mTrue\u001b[0m\u001b[1;33m)\u001b[0m\u001b[1;33m\u001b[0m\u001b[1;33m\u001b[0m\u001b[0m\n\u001b[1;32m---> 11\u001b[1;33m     \u001b[0mfetch_on_demand\u001b[0m\u001b[1;33m(\u001b[0m\u001b[0mfilename\u001b[0m\u001b[1;33m,\u001b[0m \u001b[1;34m'date'\u001b[0m\u001b[1;33m,\u001b[0m \u001b[1;32mNone\u001b[0m\u001b[1;33m,\u001b[0m \u001b[0m_chart\u001b[0m\u001b[1;33m)\u001b[0m\u001b[1;33m\u001b[0m\u001b[1;33m\u001b[0m\u001b[0m\n\u001b[0m\u001b[0;32m     12\u001b[0m \u001b[0mprint\u001b[0m\u001b[1;33m(\u001b[0m\u001b[1;34m'ok'\u001b[0m\u001b[1;33m)\u001b[0m\u001b[1;33m\u001b[0m\u001b[1;33m\u001b[0m\u001b[0m\n",
      "\u001b[1;32m<ipython-input-10-009b6c2dae3f>\u001b[0m in \u001b[0;36mfetch_on_demand\u001b[1;34m(filename, index_col, update_date_col, fetch_call)\u001b[0m\n\u001b[0;32m     46\u001b[0m         \u001b[0msys\u001b[0m\u001b[1;33m.\u001b[0m\u001b[0mstdout\u001b[0m\u001b[1;33m.\u001b[0m\u001b[0mwrite\u001b[0m\u001b[1;33m(\u001b[0m\u001b[1;34m'new 5y     '\u001b[0m\u001b[1;33m)\u001b[0m\u001b[1;33m\u001b[0m\u001b[1;33m\u001b[0m\u001b[0m\n\u001b[0;32m     47\u001b[0m         \u001b[1;32mtry\u001b[0m\u001b[1;33m:\u001b[0m\u001b[1;33m\u001b[0m\u001b[1;33m\u001b[0m\u001b[0m\n\u001b[1;32m---> 48\u001b[1;33m             \u001b[0mdf\u001b[0m \u001b[1;33m=\u001b[0m \u001b[0mfetch_call\u001b[0m\u001b[1;33m(\u001b[0m\u001b[1;34m'5y'\u001b[0m\u001b[1;33m)\u001b[0m\u001b[1;33m\u001b[0m\u001b[1;33m\u001b[0m\u001b[0m\n\u001b[0m\u001b[0;32m     49\u001b[0m         \u001b[1;32mexcept\u001b[0m \u001b[0mEOFError\u001b[0m\u001b[1;33m:\u001b[0m  \u001b[1;31m# empty data\u001b[0m\u001b[1;33m\u001b[0m\u001b[1;33m\u001b[0m\u001b[0m\n\u001b[0;32m     50\u001b[0m             \u001b[1;31m# save last fetch date to csv\u001b[0m\u001b[1;33m\u001b[0m\u001b[1;33m\u001b[0m\u001b[1;33m\u001b[0m\u001b[0m\n",
      "\u001b[1;32m<ipython-input-24-d42f2fb76949>\u001b[0m in \u001b[0;36m_chart\u001b[1;34m(param)\u001b[0m\n\u001b[0;32m      8\u001b[0m     \u001b[0mfilename\u001b[0m \u001b[1;33m=\u001b[0m \u001b[1;34m\"./daily/{}.csv\"\u001b[0m\u001b[1;33m.\u001b[0m\u001b[0mformat\u001b[0m\u001b[1;33m(\u001b[0m\u001b[0mk\u001b[0m\u001b[1;33m)\u001b[0m\u001b[1;33m\u001b[0m\u001b[1;33m\u001b[0m\u001b[0m\n\u001b[0;32m      9\u001b[0m     \u001b[1;32mdef\u001b[0m \u001b[0m_chart\u001b[0m\u001b[1;33m(\u001b[0m\u001b[0mparam\u001b[0m\u001b[1;33m)\u001b[0m\u001b[1;33m:\u001b[0m\u001b[1;33m\u001b[0m\u001b[1;33m\u001b[0m\u001b[0m\n\u001b[1;32m---> 10\u001b[1;33m         \u001b[1;32mreturn\u001b[0m \u001b[0miex\u001b[0m\u001b[1;33m.\u001b[0m\u001b[0mStock\u001b[0m\u001b[1;33m(\u001b[0m\u001b[0mk\u001b[0m\u001b[1;33m)\u001b[0m\u001b[1;33m.\u001b[0m\u001b[0mchart\u001b[0m\u001b[1;33m(\u001b[0m\u001b[0mparam\u001b[0m\u001b[1;33m,\u001b[0m \u001b[0mchangeFromClose\u001b[0m\u001b[1;33m=\u001b[0m\u001b[1;32mTrue\u001b[0m\u001b[1;33m)\u001b[0m\u001b[1;33m\u001b[0m\u001b[1;33m\u001b[0m\u001b[0m\n\u001b[0m\u001b[0;32m     11\u001b[0m     \u001b[0mfetch_on_demand\u001b[0m\u001b[1;33m(\u001b[0m\u001b[0mfilename\u001b[0m\u001b[1;33m,\u001b[0m \u001b[1;34m'date'\u001b[0m\u001b[1;33m,\u001b[0m \u001b[1;32mNone\u001b[0m\u001b[1;33m,\u001b[0m \u001b[0m_chart\u001b[0m\u001b[1;33m)\u001b[0m\u001b[1;33m\u001b[0m\u001b[1;33m\u001b[0m\u001b[0m\n\u001b[0;32m     12\u001b[0m \u001b[0mprint\u001b[0m\u001b[1;33m(\u001b[0m\u001b[1;34m'ok'\u001b[0m\u001b[1;33m)\u001b[0m\u001b[1;33m\u001b[0m\u001b[1;33m\u001b[0m\u001b[0m\n",
      "\u001b[1;32mc:\\xsoft\\fac\\fetchers\\iex_fetcher\\iex.py\u001b[0m in \u001b[0;36mchart\u001b[1;34m(self, range, **params)\u001b[0m\n\u001b[0;32m     70\u001b[0m         \u001b[1;31m# https://sandbox.iexapis.com/stable/stock/AAPL/chart/1m?token=Tpk_xxx\u001b[0m\u001b[1;33m\u001b[0m\u001b[1;33m\u001b[0m\u001b[1;33m\u001b[0m\u001b[0m\n\u001b[0;32m     71\u001b[0m         \u001b[0mpaths\u001b[0m \u001b[1;33m=\u001b[0m \u001b[1;33m[\u001b[0m\u001b[1;34m'stock'\u001b[0m\u001b[1;33m,\u001b[0m \u001b[0mself\u001b[0m\u001b[1;33m.\u001b[0m\u001b[0m_symbol\u001b[0m\u001b[1;33m,\u001b[0m \u001b[1;34m'chart'\u001b[0m\u001b[1;33m,\u001b[0m \u001b[0mrange\u001b[0m\u001b[1;33m]\u001b[0m\u001b[1;33m\u001b[0m\u001b[1;33m\u001b[0m\u001b[0m\n\u001b[1;32m---> 72\u001b[1;33m         \u001b[1;32mreturn\u001b[0m \u001b[0mself\u001b[0m\u001b[1;33m.\u001b[0m\u001b[0m_records\u001b[0m\u001b[1;33m(\u001b[0m\u001b[0mpaths\u001b[0m\u001b[1;33m,\u001b[0m \u001b[0mparams\u001b[0m\u001b[1;33m,\u001b[0m \u001b[1;34m'date'\u001b[0m\u001b[1;33m)\u001b[0m\u001b[1;33m\u001b[0m\u001b[1;33m\u001b[0m\u001b[0m\n\u001b[0m\u001b[0;32m     73\u001b[0m \u001b[1;33m\u001b[0m\u001b[0m\n\u001b[0;32m     74\u001b[0m     \u001b[1;32mdef\u001b[0m \u001b[0msplits\u001b[0m\u001b[1;33m(\u001b[0m\u001b[0mself\u001b[0m\u001b[1;33m,\u001b[0m \u001b[0mrange\u001b[0m\u001b[1;33m,\u001b[0m \u001b[1;33m**\u001b[0m\u001b[0mparams\u001b[0m\u001b[1;33m)\u001b[0m\u001b[1;33m:\u001b[0m\u001b[1;33m\u001b[0m\u001b[1;33m\u001b[0m\u001b[0m\n",
      "\u001b[1;32mc:\\xsoft\\fac\\fetchers\\iex_fetcher\\iex.py\u001b[0m in \u001b[0;36m_records\u001b[1;34m(cls, paths, params, date_col)\u001b[0m\n\u001b[0;32m     29\u001b[0m     \u001b[1;32mdef\u001b[0m \u001b[0m_records\u001b[0m\u001b[1;33m(\u001b[0m\u001b[0mcls\u001b[0m\u001b[1;33m,\u001b[0m \u001b[0mpaths\u001b[0m\u001b[1;33m,\u001b[0m \u001b[0mparams\u001b[0m\u001b[1;33m,\u001b[0m \u001b[0mdate_col\u001b[0m\u001b[1;33m)\u001b[0m\u001b[1;33m:\u001b[0m\u001b[1;33m\u001b[0m\u001b[1;33m\u001b[0m\u001b[0m\n\u001b[0;32m     30\u001b[0m         \u001b[1;34m\"\"\" Convert json to record orient df, and index as date_col \"\"\"\u001b[0m\u001b[1;33m\u001b[0m\u001b[1;33m\u001b[0m\u001b[0m\n\u001b[1;32m---> 31\u001b[1;33m         \u001b[0mjson_text\u001b[0m \u001b[1;33m=\u001b[0m \u001b[0mcls\u001b[0m\u001b[1;33m.\u001b[0m\u001b[0m_get\u001b[0m\u001b[1;33m(\u001b[0m\u001b[0mpaths\u001b[0m\u001b[1;33m,\u001b[0m \u001b[0mparams\u001b[0m\u001b[1;33m)\u001b[0m\u001b[1;33m\u001b[0m\u001b[1;33m\u001b[0m\u001b[0m\n\u001b[0m\u001b[0;32m     32\u001b[0m         \u001b[0mdf\u001b[0m \u001b[1;33m=\u001b[0m \u001b[0mpd\u001b[0m\u001b[1;33m.\u001b[0m\u001b[0mread_json\u001b[0m\u001b[1;33m(\u001b[0m\u001b[0mjson_text\u001b[0m\u001b[1;33m,\u001b[0m \u001b[0morient\u001b[0m\u001b[1;33m=\u001b[0m\u001b[1;34m'records'\u001b[0m\u001b[1;33m)\u001b[0m\u001b[1;33m\u001b[0m\u001b[1;33m\u001b[0m\u001b[0m\n\u001b[0;32m     33\u001b[0m         \u001b[1;32mif\u001b[0m \u001b[0mlen\u001b[0m\u001b[1;33m(\u001b[0m\u001b[0mdf\u001b[0m\u001b[1;33m)\u001b[0m \u001b[1;33m==\u001b[0m \u001b[1;36m0\u001b[0m\u001b[1;33m:\u001b[0m\u001b[1;33m\u001b[0m\u001b[1;33m\u001b[0m\u001b[0m\n",
      "\u001b[1;32mc:\\xsoft\\fac\\fetchers\\iex_fetcher\\iex.py\u001b[0m in \u001b[0;36m_get\u001b[1;34m(cls, paths, params, parse)\u001b[0m\n\u001b[0;32m     23\u001b[0m         \u001b[0mresp\u001b[0m \u001b[1;33m=\u001b[0m \u001b[0ms\u001b[0m\u001b[1;33m.\u001b[0m\u001b[0mget\u001b[0m\u001b[1;33m(\u001b[0m\u001b[0murl\u001b[0m\u001b[1;33m)\u001b[0m\u001b[1;33m\u001b[0m\u001b[1;33m\u001b[0m\u001b[0m\n\u001b[0;32m     24\u001b[0m         \u001b[1;32mif\u001b[0m \u001b[0mresp\u001b[0m\u001b[1;33m.\u001b[0m\u001b[0mstatus_code\u001b[0m \u001b[1;33m!=\u001b[0m \u001b[1;36m200\u001b[0m\u001b[1;33m:\u001b[0m\u001b[1;33m\u001b[0m\u001b[1;33m\u001b[0m\u001b[0m\n\u001b[1;32m---> 25\u001b[1;33m             \u001b[1;32mraise\u001b[0m \u001b[0mException\u001b[0m\u001b[1;33m(\u001b[0m\u001b[1;34m'GET {} {} {}'\u001b[0m\u001b[1;33m.\u001b[0m\u001b[0mformat\u001b[0m\u001b[1;33m(\u001b[0m\u001b[0murl\u001b[0m\u001b[1;33m,\u001b[0m \u001b[0mresp\u001b[0m\u001b[1;33m.\u001b[0m\u001b[0mstatus_code\u001b[0m\u001b[1;33m,\u001b[0m \u001b[0mresp\u001b[0m\u001b[1;33m.\u001b[0m\u001b[0mtext\u001b[0m\u001b[1;33m)\u001b[0m\u001b[1;33m)\u001b[0m\u001b[1;33m\u001b[0m\u001b[1;33m\u001b[0m\u001b[0m\n\u001b[0m\u001b[0;32m     26\u001b[0m         \u001b[1;32mreturn\u001b[0m \u001b[0mresp\u001b[0m\u001b[1;33m.\u001b[0m\u001b[0mjson\u001b[0m\u001b[1;33m(\u001b[0m\u001b[1;33m)\u001b[0m \u001b[1;32mif\u001b[0m \u001b[0mparse\u001b[0m \u001b[1;32melse\u001b[0m \u001b[0mresp\u001b[0m\u001b[1;33m.\u001b[0m\u001b[0mtext\u001b[0m\u001b[1;33m\u001b[0m\u001b[1;33m\u001b[0m\u001b[0m\n\u001b[0;32m     27\u001b[0m \u001b[1;33m\u001b[0m\u001b[0m\n",
      "\u001b[1;31mException\u001b[0m: GET https://cloud.iexapis.com/stable/stock/PGR/chart/5y?changeFromClose=True&token=pk_48abaf9c2c4f45d9adddf765ca12e400 402 You have exceeded your allotted message quota. Please enable pay-as-you-go to regain access"
     ]
    }
   ],
   "source": [
    "from tqdm.notebook import tqdm\n",
    "\n",
    "# iex.init(key.test_token, api='sandbox')\n",
    "iex.init(key.token, api='cloud')\n",
    " \n",
    "for k in tqdm(symbols):\n",
    "    sys.stdout.write('\\r{}   '.format(k))\n",
    "    filename = \"./daily/{}.csv\".format(k)\n",
    "    def _chart(param):\n",
    "        return iex.Stock(k).chart(param, changeFromClose=True)\n",
    "    fetch_on_demand(filename, 'date', None, _chart)\n",
    "print('ok')"
   ]
  },
  {
   "cell_type": "code",
   "execution_count": null,
   "metadata": {},
   "outputs": [],
   "source": []
  },
  {
   "cell_type": "code",
   "execution_count": 23,
   "metadata": {},
   "outputs": [],
   "source": [
    "iex.init(key.test_token, api='sandbox')\n",
    "# iex.init(key.token, api='cloud')\n",
    "\n",
    "# save historical price to disk\n",
    "for k in symbols:\n",
    "    k = correction[k] if k in correction else k\n",
    "    if k =='skip..': continue\n",
    "    sys.stdout.write('\\r{}   '.format(k))\n",
    "    filename = \"./daily/{}.csv\".format(k)\n",
    "    fetch_on_demand\n",
    "    \n",
    "    if os.path.exists(filename):\n",
    "        # fetcher missing period\n",
    "        df = pd.read_csv(filename, index_col='date', parse_dates=True)\n",
    "        days = pd.Timedelta(pd.datetime.now() - df.index[-1]).days\n",
    "        bdays = len(pd.bdate_range(df.index[-1], pd.datetime.now())) - 1\n",
    "        for day, param in chart_range:\n",
    "            if bdays <= 0:\n",
    "                break\n",
    "            elif days < day:\n",
    "                print(param)\n",
    "                df_append = iex.Stock(k).chart(param)\n",
    "                pd.concat([df, df_append], sort=True).to_csv(filename)\n",
    "                break\n",
    "    else:\n",
    "        print('full')\n",
    "        iex.Stock(k).chart('5y').to_csv(filename)"
   ]
  },
  {
   "cell_type": "code",
   "execution_count": null,
   "metadata": {},
   "outputs": [],
   "source": []
  },
  {
   "cell_type": "code",
   "execution_count": 7,
   "metadata": {},
   "outputs": [],
   "source": []
  },
  {
   "cell_type": "code",
   "execution_count": 4,
   "metadata": {},
   "outputs": [],
   "source": [
    "# iex.init(key.token, api='cloud')\n",
    "# iex.Stock('STI').chart('5y').to_csv('STI.csv')"
   ]
  },
  {
   "cell_type": "code",
   "execution_count": 18,
   "metadata": {},
   "outputs": [
    {
     "data": {
      "text/html": [
       "<div>\n",
       "<style scoped>\n",
       "    .dataframe tbody tr th:only-of-type {\n",
       "        vertical-align: middle;\n",
       "    }\n",
       "\n",
       "    .dataframe tbody tr th {\n",
       "        vertical-align: top;\n",
       "    }\n",
       "\n",
       "    .dataframe thead th {\n",
       "        text-align: right;\n",
       "    }\n",
       "</style>\n",
       "<table border=\"1\" class=\"dataframe\">\n",
       "  <thead>\n",
       "    <tr style=\"text-align: right;\">\n",
       "      <th></th>\n",
       "      <th>Close</th>\n",
       "      <th>Open</th>\n",
       "      <th>High</th>\n",
       "      <th>Low</th>\n",
       "      <th>Volume</th>\n",
       "    </tr>\n",
       "    <tr>\n",
       "      <th>date</th>\n",
       "      <th></th>\n",
       "      <th></th>\n",
       "      <th></th>\n",
       "      <th></th>\n",
       "      <th></th>\n",
       "    </tr>\n",
       "  </thead>\n",
       "  <tbody>\n",
       "    <tr>\n",
       "      <th>2014-12-08</th>\n",
       "      <td>38.76</td>\n",
       "      <td>38.77</td>\n",
       "      <td>38.99</td>\n",
       "      <td>38.48</td>\n",
       "      <td>3453437</td>\n",
       "    </tr>\n",
       "    <tr>\n",
       "      <th>2014-12-09</th>\n",
       "      <td>38.93</td>\n",
       "      <td>38.39</td>\n",
       "      <td>38.97</td>\n",
       "      <td>38.24</td>\n",
       "      <td>5108987</td>\n",
       "    </tr>\n",
       "    <tr>\n",
       "      <th>2014-12-10</th>\n",
       "      <td>38.10</td>\n",
       "      <td>38.71</td>\n",
       "      <td>38.98</td>\n",
       "      <td>38.08</td>\n",
       "      <td>3834101</td>\n",
       "    </tr>\n",
       "    <tr>\n",
       "      <th>2014-12-11</th>\n",
       "      <td>38.18</td>\n",
       "      <td>38.16</td>\n",
       "      <td>38.54</td>\n",
       "      <td>38.11</td>\n",
       "      <td>3061449</td>\n",
       "    </tr>\n",
       "    <tr>\n",
       "      <th>2014-12-12</th>\n",
       "      <td>37.45</td>\n",
       "      <td>37.94</td>\n",
       "      <td>38.14</td>\n",
       "      <td>37.45</td>\n",
       "      <td>3359933</td>\n",
       "    </tr>\n",
       "    <tr>\n",
       "      <th>...</th>\n",
       "      <td>...</td>\n",
       "      <td>...</td>\n",
       "      <td>...</td>\n",
       "      <td>...</td>\n",
       "      <td>...</td>\n",
       "    </tr>\n",
       "    <tr>\n",
       "      <th>2019-12-02</th>\n",
       "      <td>54.41</td>\n",
       "      <td>54.99</td>\n",
       "      <td>55.06</td>\n",
       "      <td>54.32</td>\n",
       "      <td>3293946</td>\n",
       "    </tr>\n",
       "    <tr>\n",
       "      <th>2019-12-03</th>\n",
       "      <td>53.21</td>\n",
       "      <td>53.70</td>\n",
       "      <td>53.70</td>\n",
       "      <td>52.77</td>\n",
       "      <td>4541849</td>\n",
       "    </tr>\n",
       "    <tr>\n",
       "      <th>2019-12-04</th>\n",
       "      <td>53.31</td>\n",
       "      <td>53.25</td>\n",
       "      <td>53.51</td>\n",
       "      <td>53.07</td>\n",
       "      <td>5437363</td>\n",
       "    </tr>\n",
       "    <tr>\n",
       "      <th>2019-12-05</th>\n",
       "      <td>53.49</td>\n",
       "      <td>53.50</td>\n",
       "      <td>53.59</td>\n",
       "      <td>53.04</td>\n",
       "      <td>6088520</td>\n",
       "    </tr>\n",
       "    <tr>\n",
       "      <th>2019-12-06</th>\n",
       "      <td>54.24</td>\n",
       "      <td>54.13</td>\n",
       "      <td>54.68</td>\n",
       "      <td>54.02</td>\n",
       "      <td>25954270</td>\n",
       "    </tr>\n",
       "  </tbody>\n",
       "</table>\n",
       "<p>1259 rows × 5 columns</p>\n",
       "</div>"
      ],
      "text/plain": [
       "            Close   Open   High    Low    Volume\n",
       "date                                            \n",
       "2014-12-08  38.76  38.77  38.99  38.48   3453437\n",
       "2014-12-09  38.93  38.39  38.97  38.24   5108987\n",
       "2014-12-10  38.10  38.71  38.98  38.08   3834101\n",
       "2014-12-11  38.18  38.16  38.54  38.11   3061449\n",
       "2014-12-12  37.45  37.94  38.14  37.45   3359933\n",
       "...           ...    ...    ...    ...       ...\n",
       "2019-12-02  54.41  54.99  55.06  54.32   3293946\n",
       "2019-12-03  53.21  53.70  53.70  52.77   4541849\n",
       "2019-12-04  53.31  53.25  53.51  53.07   5437363\n",
       "2019-12-05  53.49  53.50  53.59  53.04   6088520\n",
       "2019-12-06  54.24  54.13  54.68  54.02  25954270\n",
       "\n",
       "[1259 rows x 5 columns]"
      ]
     },
     "execution_count": 18,
     "metadata": {},
     "output_type": "execute_result"
    }
   ],
   "source": [
    "import pandas as pd\n",
    "import numpy as np\n",
    "df = pd.read_csv('BBT.csv', index_col='date', parse_dates=True)\n",
    "df = df[['uClose','uOpen','uHigh','uLow','uVolume']]\n",
    "df = df.rename(columns={'uClose':'Close','uOpen':'Open','uHigh':'High','uLow':'Low','uVolume':'Volume'})\n",
    "df"
   ]
  },
  {
   "cell_type": "code",
   "execution_count": null,
   "metadata": {},
   "outputs": [],
   "source": []
  },
  {
   "cell_type": "code",
   "execution_count": null,
   "metadata": {},
   "outputs": [],
   "source": []
  },
  {
   "cell_type": "code",
   "execution_count": null,
   "metadata": {},
   "outputs": [],
   "source": []
  },
  {
   "cell_type": "code",
   "execution_count": 3,
   "metadata": {},
   "outputs": [],
   "source": []
  },
  {
   "cell_type": "code",
   "execution_count": null,
   "metadata": {},
   "outputs": [],
   "source": []
  },
  {
   "cell_type": "code",
   "execution_count": null,
   "metadata": {},
   "outputs": [],
   "source": []
  },
  {
   "cell_type": "code",
   "execution_count": null,
   "metadata": {},
   "outputs": [],
   "source": [
    "etfs = pd.read_html(requests.get('https://etfdailynews.com/etf/spy/', headers={'User-agent': 'Mozilla/5.0'}).text,\n",
    "             attrs={'id': 'etfs-that-own'})\n",
    "spy = [x for x in etfs[0].Symbol.values.tolist() if isinstance(x, str)]"
   ]
  },
  {
   "cell_type": "code",
   "execution_count": null,
   "metadata": {},
   "outputs": [],
   "source": []
  }
 ],
 "metadata": {
  "kernelspec": {
   "display_name": "Python [conda env:spectre] *",
   "language": "python",
   "name": "conda-env-spectre-py"
  },
  "language_info": {
   "codemirror_mode": {
    "name": "ipython",
    "version": 3
   },
   "file_extension": ".py",
   "mimetype": "text/x-python",
   "name": "python",
   "nbconvert_exporter": "python",
   "pygments_lexer": "ipython3",
   "version": "3.7.5"
  }
 },
 "nbformat": 4,
 "nbformat_minor": 4
}
