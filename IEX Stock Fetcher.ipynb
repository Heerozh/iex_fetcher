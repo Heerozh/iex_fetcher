{
 "cells": [
  {
   "cell_type": "markdown",
   "metadata": {},
   "source": [
    "# Simple IEX Stock Fetcher\n",
    "\n",
    "The IEX free message quota only gets one year of data for 200 stocks, so run this, fetcher stock data and save to disk every month.\n"
   ]
  },
  {
   "cell_type": "markdown",
   "metadata": {},
   "source": [
    "## Test api"
   ]
  },
  {
   "cell_type": "code",
   "execution_count": 1,
   "metadata": {},
   "outputs": [
    {
     "data": {
      "text/html": [
       "<div>\n",
       "<style scoped>\n",
       "    .dataframe tbody tr th:only-of-type {\n",
       "        vertical-align: middle;\n",
       "    }\n",
       "\n",
       "    .dataframe tbody tr th {\n",
       "        vertical-align: top;\n",
       "    }\n",
       "\n",
       "    .dataframe thead th {\n",
       "        text-align: right;\n",
       "    }\n",
       "</style>\n",
       "<table border=\"1\" class=\"dataframe\">\n",
       "  <thead>\n",
       "    <tr style=\"text-align: right;\">\n",
       "      <th></th>\n",
       "      <th>close</th>\n",
       "      <th>volume</th>\n",
       "      <th>change</th>\n",
       "      <th>changePercent</th>\n",
       "      <th>changeOverTime</th>\n",
       "    </tr>\n",
       "    <tr>\n",
       "      <th>date</th>\n",
       "      <th></th>\n",
       "      <th></th>\n",
       "      <th></th>\n",
       "      <th></th>\n",
       "      <th></th>\n",
       "    </tr>\n",
       "  </thead>\n",
       "  <tbody>\n",
       "    <tr>\n",
       "      <th>2019-12-02</th>\n",
       "      <td>271.69</td>\n",
       "      <td>24432805</td>\n",
       "      <td>0.00</td>\n",
       "      <td>0.0000</td>\n",
       "      <td>0.000000</td>\n",
       "    </tr>\n",
       "    <tr>\n",
       "      <th>2019-12-03</th>\n",
       "      <td>266.28</td>\n",
       "      <td>30088737</td>\n",
       "      <td>-4.83</td>\n",
       "      <td>-1.8450</td>\n",
       "      <td>-0.018550</td>\n",
       "    </tr>\n",
       "    <tr>\n",
       "      <th>2019-12-04</th>\n",
       "      <td>273.66</td>\n",
       "      <td>17175578</td>\n",
       "      <td>2.31</td>\n",
       "      <td>0.9090</td>\n",
       "      <td>-0.009207</td>\n",
       "    </tr>\n",
       "    <tr>\n",
       "      <th>2019-12-05</th>\n",
       "      <td>269.96</td>\n",
       "      <td>19239028</td>\n",
       "      <td>3.84</td>\n",
       "      <td>1.4762</td>\n",
       "      <td>0.005525</td>\n",
       "    </tr>\n",
       "    <tr>\n",
       "      <th>2019-12-06</th>\n",
       "      <td>282.17</td>\n",
       "      <td>27811895</td>\n",
       "      <td>5.13</td>\n",
       "      <td>1.9364</td>\n",
       "      <td>0.024948</td>\n",
       "    </tr>\n",
       "  </tbody>\n",
       "</table>\n",
       "</div>"
      ],
      "text/plain": [
       "             close    volume  change  changePercent  changeOverTime\n",
       "date                                                               \n",
       "2019-12-02  271.69  24432805    0.00         0.0000        0.000000\n",
       "2019-12-03  266.28  30088737   -4.83        -1.8450       -0.018550\n",
       "2019-12-04  273.66  17175578    2.31         0.9090       -0.009207\n",
       "2019-12-05  269.96  19239028    3.84         1.4762        0.005525\n",
       "2019-12-06  282.17  27811895    5.13         1.9364        0.024948"
      ]
     },
     "execution_count": 1,
     "metadata": {},
     "output_type": "execute_result"
    }
   ],
   "source": [
    "import iex\n",
    "import key\n",
    "iex.init(key.test_token, api='sandbox')\n",
    "aapl = iex.Stock('AAPL')\n",
    "aapl.chart('5d', chartCloseOnly=True)"
   ]
  },
  {
   "cell_type": "code",
   "execution_count": 2,
   "metadata": {},
   "outputs": [
    {
     "data": {
      "text/html": [
       "<div>\n",
       "<style scoped>\n",
       "    .dataframe tbody tr th:only-of-type {\n",
       "        vertical-align: middle;\n",
       "    }\n",
       "\n",
       "    .dataframe tbody tr th {\n",
       "        vertical-align: top;\n",
       "    }\n",
       "\n",
       "    .dataframe thead th {\n",
       "        text-align: right;\n",
       "    }\n",
       "</style>\n",
       "<table border=\"1\" class=\"dataframe\">\n",
       "  <thead>\n",
       "    <tr style=\"text-align: right;\">\n",
       "      <th></th>\n",
       "      <th>paymentDate</th>\n",
       "      <th>recordDate</th>\n",
       "      <th>declaredDate</th>\n",
       "      <th>amount</th>\n",
       "      <th>flag</th>\n",
       "      <th>currency</th>\n",
       "      <th>description</th>\n",
       "      <th>frequency</th>\n",
       "      <th>date</th>\n",
       "    </tr>\n",
       "    <tr>\n",
       "      <th>exDate</th>\n",
       "      <th></th>\n",
       "      <th></th>\n",
       "      <th></th>\n",
       "      <th></th>\n",
       "      <th></th>\n",
       "      <th></th>\n",
       "      <th></th>\n",
       "      <th></th>\n",
       "      <th></th>\n",
       "    </tr>\n",
       "  </thead>\n",
       "  <tbody>\n",
       "    <tr>\n",
       "      <th>2019-11-17</th>\n",
       "      <td>2019-11-23</td>\n",
       "      <td>2019-11-16</td>\n",
       "      <td>2019-11-01</td>\n",
       "      <td>0.79</td>\n",
       "      <td>Chas</td>\n",
       "      <td>USD</td>\n",
       "      <td>Od Seyhrnrsiaar</td>\n",
       "      <td>reqrltauy</td>\n",
       "      <td>2019-12-07</td>\n",
       "    </tr>\n",
       "    <tr>\n",
       "      <th>2019-08-10</th>\n",
       "      <td>2019-08-22</td>\n",
       "      <td>2019-08-21</td>\n",
       "      <td>2019-08-07</td>\n",
       "      <td>0.78</td>\n",
       "      <td>aCsh</td>\n",
       "      <td>USD</td>\n",
       "      <td>irraSyn ershOad</td>\n",
       "      <td>yaruqtrle</td>\n",
       "      <td>2019-12-07</td>\n",
       "    </tr>\n",
       "    <tr>\n",
       "      <th>2019-05-20</th>\n",
       "      <td>2019-05-29</td>\n",
       "      <td>2019-05-17</td>\n",
       "      <td>2019-05-13</td>\n",
       "      <td>0.81</td>\n",
       "      <td>hasC</td>\n",
       "      <td>USD</td>\n",
       "      <td>s eahndrSyrrOai</td>\n",
       "      <td>tarleyuqr</td>\n",
       "      <td>2019-12-07</td>\n",
       "    </tr>\n",
       "    <tr>\n",
       "      <th>2019-02-11</th>\n",
       "      <td>2019-02-17</td>\n",
       "      <td>2019-02-22</td>\n",
       "      <td>2019-02-01</td>\n",
       "      <td>0.74</td>\n",
       "      <td>ahsC</td>\n",
       "      <td>USD</td>\n",
       "      <td>raahedyOsn rriS</td>\n",
       "      <td>erqulytar</td>\n",
       "      <td>2019-12-07</td>\n",
       "    </tr>\n",
       "  </tbody>\n",
       "</table>\n",
       "</div>"
      ],
      "text/plain": [
       "           paymentDate  recordDate declaredDate  amount  flag currency  \\\n",
       "exDate                                                                   \n",
       "2019-11-17  2019-11-23  2019-11-16   2019-11-01    0.79  Chas      USD   \n",
       "2019-08-10  2019-08-22  2019-08-21   2019-08-07    0.78  aCsh      USD   \n",
       "2019-05-20  2019-05-29  2019-05-17   2019-05-13    0.81  hasC      USD   \n",
       "2019-02-11  2019-02-17  2019-02-22   2019-02-01    0.74  ahsC      USD   \n",
       "\n",
       "                description  frequency       date  \n",
       "exDate                                             \n",
       "2019-11-17  Od Seyhrnrsiaar  reqrltauy 2019-12-07  \n",
       "2019-08-10  irraSyn ershOad  yaruqtrle 2019-12-07  \n",
       "2019-05-20  s eahndrSyrrOai  tarleyuqr 2019-12-07  \n",
       "2019-02-11  raahedyOsn rriS  erqulytar 2019-12-07  "
      ]
     },
     "execution_count": 2,
     "metadata": {},
     "output_type": "execute_result"
    }
   ],
   "source": [
    "aapl.dividends('1y')"
   ]
  },
  {
   "cell_type": "code",
   "execution_count": 14,
   "metadata": {},
   "outputs": [
    {
     "data": {
      "text/html": [
       "<div>\n",
       "<style scoped>\n",
       "    .dataframe tbody tr th:only-of-type {\n",
       "        vertical-align: middle;\n",
       "    }\n",
       "\n",
       "    .dataframe tbody tr th {\n",
       "        vertical-align: top;\n",
       "    }\n",
       "\n",
       "    .dataframe thead th {\n",
       "        text-align: right;\n",
       "    }\n",
       "</style>\n",
       "<table border=\"1\" class=\"dataframe\">\n",
       "  <thead>\n",
       "    <tr style=\"text-align: right;\">\n",
       "      <th></th>\n",
       "      <th>paymentDate</th>\n",
       "      <th>recordDate</th>\n",
       "      <th>declaredDate</th>\n",
       "      <th>amount</th>\n",
       "      <th>flag</th>\n",
       "      <th>currency</th>\n",
       "      <th>description</th>\n",
       "      <th>frequency</th>\n",
       "      <th>date</th>\n",
       "    </tr>\n",
       "    <tr>\n",
       "      <th>exDate</th>\n",
       "      <th></th>\n",
       "      <th></th>\n",
       "      <th></th>\n",
       "      <th></th>\n",
       "      <th></th>\n",
       "      <th></th>\n",
       "      <th></th>\n",
       "      <th></th>\n",
       "      <th></th>\n",
       "    </tr>\n",
       "  </thead>\n",
       "  <tbody>\n",
       "    <tr>\n",
       "      <th>2019-11-07</th>\n",
       "      <td>2019-11-14</td>\n",
       "      <td>2019-11-11</td>\n",
       "      <td>2019-10-30</td>\n",
       "      <td>0.77</td>\n",
       "      <td>Cash</td>\n",
       "      <td>USD</td>\n",
       "      <td>Ordinary Shares</td>\n",
       "      <td>quarterly</td>\n",
       "      <td>2019-12-07</td>\n",
       "    </tr>\n",
       "    <tr>\n",
       "      <th>2019-08-09</th>\n",
       "      <td>2019-08-15</td>\n",
       "      <td>2019-08-12</td>\n",
       "      <td>2019-07-30</td>\n",
       "      <td>0.77</td>\n",
       "      <td>Cash</td>\n",
       "      <td>USD</td>\n",
       "      <td>Ordinary Shares</td>\n",
       "      <td>quarterly</td>\n",
       "      <td>2019-12-07</td>\n",
       "    </tr>\n",
       "    <tr>\n",
       "      <th>2019-05-10</th>\n",
       "      <td>2019-05-16</td>\n",
       "      <td>2019-05-13</td>\n",
       "      <td>2019-04-30</td>\n",
       "      <td>0.77</td>\n",
       "      <td>Cash</td>\n",
       "      <td>USD</td>\n",
       "      <td>Ordinary Shares</td>\n",
       "      <td>quarterly</td>\n",
       "      <td>2019-12-07</td>\n",
       "    </tr>\n",
       "    <tr>\n",
       "      <th>2019-02-08</th>\n",
       "      <td>2019-02-14</td>\n",
       "      <td>2019-02-11</td>\n",
       "      <td>2019-01-29</td>\n",
       "      <td>0.73</td>\n",
       "      <td>Cash</td>\n",
       "      <td>USD</td>\n",
       "      <td>Ordinary Shares</td>\n",
       "      <td>quarterly</td>\n",
       "      <td>2019-12-07</td>\n",
       "    </tr>\n",
       "  </tbody>\n",
       "</table>\n",
       "</div>"
      ],
      "text/plain": [
       "           paymentDate  recordDate declaredDate  amount  flag currency  \\\n",
       "exDate                                                                   \n",
       "2019-11-07  2019-11-14  2019-11-11   2019-10-30    0.77  Cash      USD   \n",
       "2019-08-09  2019-08-15  2019-08-12   2019-07-30    0.77  Cash      USD   \n",
       "2019-05-10  2019-05-16  2019-05-13   2019-04-30    0.77  Cash      USD   \n",
       "2019-02-08  2019-02-14  2019-02-11   2019-01-29    0.73  Cash      USD   \n",
       "\n",
       "                description  frequency       date  \n",
       "exDate                                             \n",
       "2019-11-07  Ordinary Shares  quarterly 2019-12-07  \n",
       "2019-08-09  Ordinary Shares  quarterly 2019-12-07  \n",
       "2019-05-10  Ordinary Shares  quarterly 2019-12-07  \n",
       "2019-02-08  Ordinary Shares  quarterly 2019-12-07  "
      ]
     },
     "execution_count": 14,
     "metadata": {},
     "output_type": "execute_result"
    }
   ],
   "source": [
    "# iex.init(key.token, api='cloud')\n",
    "# aapl.dividends('1y')"
   ]
  },
  {
   "cell_type": "code",
   "execution_count": 2,
   "metadata": {},
   "outputs": [
    {
     "data": {
      "text/html": [
       "<div>\n",
       "<style scoped>\n",
       "    .dataframe tbody tr th:only-of-type {\n",
       "        vertical-align: middle;\n",
       "    }\n",
       "\n",
       "    .dataframe tbody tr th {\n",
       "        vertical-align: top;\n",
       "    }\n",
       "\n",
       "    .dataframe thead th {\n",
       "        text-align: right;\n",
       "    }\n",
       "</style>\n",
       "<table border=\"1\" class=\"dataframe\">\n",
       "  <thead>\n",
       "    <tr style=\"text-align: right;\">\n",
       "      <th></th>\n",
       "      <th>declaredDate</th>\n",
       "      <th>ratio</th>\n",
       "      <th>toFactor</th>\n",
       "      <th>fromFactor</th>\n",
       "      <th>description</th>\n",
       "      <th>date</th>\n",
       "    </tr>\n",
       "    <tr>\n",
       "      <th>exDate</th>\n",
       "      <th></th>\n",
       "      <th></th>\n",
       "      <th></th>\n",
       "      <th></th>\n",
       "      <th></th>\n",
       "      <th></th>\n",
       "    </tr>\n",
       "  </thead>\n",
       "  <tbody>\n",
       "    <tr>\n",
       "      <th>2019-06-18</th>\n",
       "      <td>2019-06-13</td>\n",
       "      <td>0.673858</td>\n",
       "      <td>3</td>\n",
       "      <td>2</td>\n",
       "      <td>i-rp2fS t3-ol</td>\n",
       "      <td>2019-12-07</td>\n",
       "    </tr>\n",
       "    <tr>\n",
       "      <th>2019-06-20</th>\n",
       "      <td>2019-06-08</td>\n",
       "      <td>0.672697</td>\n",
       "      <td>3</td>\n",
       "      <td>2</td>\n",
       "      <td>ptoiSr- 23-lf</td>\n",
       "      <td>2019-12-07</td>\n",
       "    </tr>\n",
       "  </tbody>\n",
       "</table>\n",
       "</div>"
      ],
      "text/plain": [
       "           declaredDate     ratio  toFactor  fromFactor    description  \\\n",
       "exDate                                                                   \n",
       "2019-06-18   2019-06-13  0.673858         3           2  i-rp2fS t3-ol   \n",
       "2019-06-20   2019-06-08  0.672697         3           2  ptoiSr- 23-lf   \n",
       "\n",
       "                 date  \n",
       "exDate                 \n",
       "2019-06-18 2019-12-07  \n",
       "2019-06-20 2019-12-07  "
      ]
     },
     "execution_count": 2,
     "metadata": {},
     "output_type": "execute_result"
    }
   ],
   "source": [
    "iex.Stock('AIRT').splits('5y')"
   ]
  },
  {
   "cell_type": "markdown",
   "metadata": {},
   "source": [
    "# Fetch Symobols"
   ]
  },
  {
   "cell_type": "code",
   "execution_count": 10,
   "metadata": {},
   "outputs": [],
   "source": [
    "# 这东西得每个月更新下\n",
    "iex.init(key.token, api='cloud')\n",
    "symbols = iex.Reference.symbols()\n",
    "symbols.to_csv(\"./symbols.csv\")\n",
    "iex.init(key.test_token, api='sandbox')"
   ]
  },
  {
   "cell_type": "markdown",
   "metadata": {},
   "source": [
    "type\trefers to the common issue type\n",
    "\n",
    "    ad - ADR\n",
    "    re - REIT\n",
    "    ce - Closed end fund\n",
    "    si - Secondary Issue\n",
    "    lp - Limited Partnerships\n",
    "    cs - Common Stock\n",
    "    et - ETF\n",
    "    wt - Warrant\n",
    "    oef - Open Ended Fund\n",
    "    cef - Closed Ended Fund\n",
    "    ps - Preferred Stock\n",
    "    ut - Unit\n",
    "    struct - Structured Product"
   ]
  },
  {
   "cell_type": "code",
   "execution_count": 21,
   "metadata": {},
   "outputs": [
    {
     "data": {
      "text/plain": [
       "type\n",
       "ad         402\n",
       "cef        506\n",
       "cs        4536\n",
       "et        2339\n",
       "ps         762\n",
       "rt          23\n",
       "struct       2\n",
       "temp         1\n",
       "ut         116\n",
       "wt         177\n",
       "Name: symbol, dtype: int64"
      ]
     },
     "execution_count": 21,
     "metadata": {},
     "output_type": "execute_result"
    }
   ],
   "source": [
    "symbols.groupby('type').symbol.count()"
   ]
  },
  {
   "cell_type": "markdown",
   "metadata": {},
   "source": [
    "# Fetcher Functions"
   ]
  },
  {
   "cell_type": "code",
   "execution_count": 3,
   "metadata": {},
   "outputs": [],
   "source": [
    "import os, sys\n",
    "import pandas as pd\n",
    "chart_range = [(5,'5d'), (20,'1m'), (75,'3m'), (165,'6m'), (341,'1y'), (715,'2y'), (99999, '5y')]\n",
    "\n",
    "def range_since_last(df, update_date_col):\n",
    "    if update_date_col is None:\n",
    "        update_at = df.index[-1]\n",
    "    else:\n",
    "        update_at = df[update_date_col].iloc[-1]\n",
    "    update_at = df[update_date_col].iloc[-1]\n",
    "    update_at = pd.Timestamp(update_at)\n",
    "    days = pd.Timedelta(pd.datetime.now() - update_at).days\n",
    "    bdays = len(pd.bdate_range(update_at, pd.datetime.now())) - 1\n",
    "    if bdays <= 0:\n",
    "        return None\n",
    "    for range_, param in chart_range:\n",
    "        if days < range_:\n",
    "            return param\n",
    "    return '5y'\n",
    "\n",
    "def fetch_on_demand(filename, index_col, update_date_col, fetch_call):\n",
    "    if os.path.exists(filename):\n",
    "        df = pd.read_csv(filename, index_col=index_col, parse_dates=True)\n",
    "        param = range_since_last(df, update_date_col)\n",
    "        sys.stdout.write(str(param) + \"      \")\n",
    "        if param is None:\n",
    "            return\n",
    "        # fetcher missing period\n",
    "        try:\n",
    "            df_append = fetch_call(param)\n",
    "        except EOFError:  # empty data\n",
    "            # update last fetch date only\n",
    "            df.loc[df.index[-1], update_date_col] = pd.datetime.now()\n",
    "            df.to_csv(filename)\n",
    "            return\n",
    "        df = df_append.combine_first(df)\n",
    "        df.sort_index(inplace=True)\n",
    "        df.to_csv(filename)\n",
    "    else:\n",
    "        sys.stdout.write('new 5y     ')\n",
    "        try:\n",
    "            df = fetch_call('5y')\n",
    "        except EOFError:  # empty data\n",
    "            # save last fetch date to csv\n",
    "            pd.DataFrame([[np.nan, pd.datetime.now()]], columns=[index_col, update_date_col]).to_csv(\n",
    "                filename, index=False)\n",
    "            return\n",
    "        df.sort_index(inplace=True)\n",
    "        df.to_csv(filename)"
   ]
  },
  {
   "cell_type": "markdown",
   "metadata": {},
   "source": [
    "## Fetch Adjustment"
   ]
  },
  {
   "cell_type": "code",
   "execution_count": 59,
   "metadata": {},
   "outputs": [
    {
     "data": {
      "text/plain": [
       "(array(['A', 'AA', 'AACG', ..., 'ZYXI', 'SPY', 'QQQ'], dtype=object), (4939,))"
      ]
     },
     "execution_count": 59,
     "metadata": {},
     "output_type": "execute_result"
    }
   ],
   "source": [
    "import numpy as np\n",
    "symbols = pd.read_csv('./symbols.csv', index_col='date', parse_dates=True)\n",
    "symbols = symbols[(symbols.type == 'ad') | (symbols.type == 'cs') & (symbols.exchange != 'OTC')]\n",
    "symbols = symbols.symbol.values\n",
    "symbols = np.append(symbols, ['SPY', 'QQQ'])\n",
    "symbols, symbols.shape"
   ]
  },
  {
   "cell_type": "code",
   "execution_count": 7,
   "metadata": {},
   "outputs": [
    {
     "data": {
      "application/vnd.jupyter.widget-view+json": {
       "model_id": "6f195ee019a44ac383d01a0daef47562",
       "version_major": 2,
       "version_minor": 0
      },
      "text/plain": [
       "HBox(children=(FloatProgress(value=0.0, max=4940.0), HTML(value='')))"
      ]
     },
     "metadata": {},
     "output_type": "display_data"
    },
    {
     "name": "stdout",
     "output_type": "stream",
     "text": [
      "QQQ   new 5y        \n",
      "ok\n"
     ]
    }
   ],
   "source": [
    "from tqdm.notebook import tqdm\n",
    "\n",
    "# iex.init(key.test_token, api='sandbox')\n",
    "iex.init(key.token, api='cloud')\n",
    " \n",
    "for k in tqdm(symbols):\n",
    "    sys.stdout.write('\\r{}   '.format(k))\n",
    "    filename = \"./dividends/{}.csv\".format(k)\n",
    "    fetch_on_demand(filename, 'exDate', 'date', iex.Stock(k).dividends)\n",
    "print('ok')"
   ]
  },
  {
   "cell_type": "code",
   "execution_count": 6,
   "metadata": {},
   "outputs": [
    {
     "data": {
      "application/vnd.jupyter.widget-view+json": {
       "model_id": "b0940137fc1645e496a37c0a0c37600e",
       "version_major": 2,
       "version_minor": 0
      },
      "text/plain": [
       "HBox(children=(FloatProgress(value=0.0, max=4940.0), HTML(value='')))"
      ]
     },
     "metadata": {},
     "output_type": "display_data"
    },
    {
     "name": "stdout",
     "output_type": "stream",
     "text": [
      "QQQ   None         ne      None      None      None      None      None      None      None      None      None      None      None      None      None      None      None      None      None      None      None      None      None      None      None      None      None      None      None      None      None      None      None      None      None      None      None      None      None      None      None      None      None      None      None      None      None      None      None      None      None      None      None      None      None      None      None      None      None      None      None      None      None      None      None      None      None      \n",
      "ok\n"
     ]
    }
   ],
   "source": [
    "from tqdm.notebook import tqdm\n",
    "\n",
    "# iex.init(key.test_token, api='sandbox')\n",
    "iex.init(key.token, api='cloud')\n",
    "\n",
    "for k in tqdm(symbols):\n",
    "    sys.stdout.write('\\r{}   '.format(k))\n",
    "    filename = \"./splits/{}.csv\".format(k)\n",
    "    fetch_on_demand(filename, 'exDate', 'date', iex.Stock(k).splits)\n",
    "print('ok')"
   ]
  },
  {
   "cell_type": "markdown",
   "metadata": {},
   "source": [
    "iex获取的数据还是有错，比如AIRT，要yahoo交叉验证"
   ]
  },
  {
   "cell_type": "markdown",
   "metadata": {},
   "source": [
    "## Fetch stocks"
   ]
  },
  {
   "cell_type": "code",
   "execution_count": 10,
   "metadata": {},
   "outputs": [],
   "source": [
    "import requests\n",
    "import pandas as pd\n",
    "import time"
   ]
  },
  {
   "cell_type": "code",
   "execution_count": 6,
   "metadata": {},
   "outputs": [],
   "source": [
    "# todo read top 600 stock from history"
   ]
  },
  {
   "cell_type": "code",
   "execution_count": 23,
   "metadata": {},
   "outputs": [],
   "source": [
    "# iex.init(key.test_token, api='sandbox')\n",
    "iex.init(key.token, api='cloud')\n",
    "\n",
    "# save historical price to disk\n",
    "for k in spy:\n",
    "    k = correction[k] if k in correction else k\n",
    "    if k =='skip..': continue\n",
    "    sys.stdout.write('\\r{}   '.format(k))\n",
    "    filename = \"./daily/{}.csv\".format(k)\n",
    "    fetch_on_demand\n",
    "    \n",
    "    if os.path.exists(filename):\n",
    "        # fetcher missing period\n",
    "        df = pd.read_csv(filename, index_col='date', parse_dates=True)\n",
    "        days = pd.Timedelta(pd.datetime.now() - df.index[-1]).days\n",
    "        bdays = len(pd.bdate_range(df.index[-1], pd.datetime.now())) - 1\n",
    "        for day, param in chart_range:\n",
    "            if bdays <= 0:\n",
    "                break\n",
    "            elif days < day:\n",
    "                print(param)\n",
    "                df_append = iex.Stock(k).chart(param)\n",
    "                pd.concat([df, df_append], sort=True).to_csv(filename)\n",
    "                break\n",
    "    else:\n",
    "        print('full')\n",
    "        iex.Stock(k).chart('5y').to_csv(filename)"
   ]
  },
  {
   "cell_type": "code",
   "execution_count": null,
   "metadata": {},
   "outputs": [],
   "source": []
  },
  {
   "cell_type": "code",
   "execution_count": 7,
   "metadata": {},
   "outputs": [],
   "source": []
  },
  {
   "cell_type": "code",
   "execution_count": null,
   "metadata": {},
   "outputs": [],
   "source": [
    "\n",
    "    \n"
   ]
  },
  {
   "cell_type": "code",
   "execution_count": null,
   "metadata": {},
   "outputs": [],
   "source": []
  },
  {
   "cell_type": "code",
   "execution_count": null,
   "metadata": {},
   "outputs": [],
   "source": []
  },
  {
   "cell_type": "code",
   "execution_count": 3,
   "metadata": {},
   "outputs": [],
   "source": []
  },
  {
   "cell_type": "code",
   "execution_count": null,
   "metadata": {},
   "outputs": [],
   "source": []
  },
  {
   "cell_type": "code",
   "execution_count": null,
   "metadata": {},
   "outputs": [],
   "source": []
  },
  {
   "cell_type": "code",
   "execution_count": null,
   "metadata": {},
   "outputs": [],
   "source": [
    "etfs = pd.read_html(requests.get('https://etfdailynews.com/etf/spy/', headers={'User-agent': 'Mozilla/5.0'}).text,\n",
    "             attrs={'id': 'etfs-that-own'})\n",
    "spy = [x for x in etfs[0].Symbol.values.tolist() if isinstance(x, str)]"
   ]
  },
  {
   "cell_type": "code",
   "execution_count": null,
   "metadata": {},
   "outputs": [],
   "source": []
  }
 ],
 "metadata": {
  "kernelspec": {
   "display_name": "Python [conda env:spectre] *",
   "language": "python",
   "name": "conda-env-spectre-py"
  },
  "language_info": {
   "codemirror_mode": {
    "name": "ipython",
    "version": 3
   },
   "file_extension": ".py",
   "mimetype": "text/x-python",
   "name": "python",
   "nbconvert_exporter": "python",
   "pygments_lexer": "ipython3",
   "version": "3.7.4"
  }
 },
 "nbformat": 4,
 "nbformat_minor": 4
}
