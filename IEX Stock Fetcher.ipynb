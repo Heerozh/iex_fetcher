{
 "cells": [
  {
   "cell_type": "code",
   "execution_count": 1,
   "metadata": {},
   "outputs": [],
   "source": [
    "%load_ext autoreload\n",
    "%autoreload 2"
   ]
  },
  {
   "cell_type": "markdown",
   "metadata": {},
   "source": [
    "# Simple IEX Stock Fetcher\n",
    "\n",
    "The IEX free message quota only gets one year of data for 200 stocks, so run this, fetcher stock data and save to disk every month.\n"
   ]
  },
  {
   "cell_type": "markdown",
   "metadata": {},
   "source": [
    "## Test api"
   ]
  },
  {
   "cell_type": "code",
   "execution_count": 2,
   "metadata": {},
   "outputs": [
    {
     "data": {
      "text/html": [
       "<div>\n",
       "<style scoped>\n",
       "    .dataframe tbody tr th:only-of-type {\n",
       "        vertical-align: middle;\n",
       "    }\n",
       "\n",
       "    .dataframe tbody tr th {\n",
       "        vertical-align: top;\n",
       "    }\n",
       "\n",
       "    .dataframe thead th {\n",
       "        text-align: right;\n",
       "    }\n",
       "</style>\n",
       "<table border=\"1\" class=\"dataframe\">\n",
       "  <thead>\n",
       "    <tr style=\"text-align: right;\">\n",
       "      <th></th>\n",
       "      <th>change</th>\n",
       "      <th>changeOverTime</th>\n",
       "      <th>changePercent</th>\n",
       "      <th>close</th>\n",
       "      <th>volume</th>\n",
       "    </tr>\n",
       "    <tr>\n",
       "      <th>date</th>\n",
       "      <th></th>\n",
       "      <th></th>\n",
       "      <th></th>\n",
       "      <th></th>\n",
       "      <th></th>\n",
       "    </tr>\n",
       "  </thead>\n",
       "  <tbody>\n",
       "    <tr>\n",
       "      <th>2019-10-01</th>\n",
       "      <td>0.630000</td>\n",
       "      <td>0.002846</td>\n",
       "      <td>0.2776</td>\n",
       "      <td>235.08</td>\n",
       "      <td>36626895</td>\n",
       "    </tr>\n",
       "    <tr>\n",
       "      <th>2019-10-02</th>\n",
       "      <td>-5.740000</td>\n",
       "      <td>-0.023081</td>\n",
       "      <td>-2.5109</td>\n",
       "      <td>222.51</td>\n",
       "      <td>35941685</td>\n",
       "    </tr>\n",
       "    <tr>\n",
       "      <th>2019-10-03</th>\n",
       "      <td>1.940000</td>\n",
       "      <td>-0.014185</td>\n",
       "      <td>0.8914</td>\n",
       "      <td>231.78</td>\n",
       "      <td>30438546</td>\n",
       "    </tr>\n",
       "    <tr>\n",
       "      <th>2019-10-04</th>\n",
       "      <td>6.310000</td>\n",
       "      <td>0.013995</td>\n",
       "      <td>2.8347</td>\n",
       "      <td>230.24</td>\n",
       "      <td>34995248</td>\n",
       "    </tr>\n",
       "    <tr>\n",
       "      <th>2019-10-07</th>\n",
       "      <td>0.051249</td>\n",
       "      <td>0.000000</td>\n",
       "      <td>0.0200</td>\n",
       "      <td>234.46</td>\n",
       "      <td>32130948</td>\n",
       "    </tr>\n",
       "  </tbody>\n",
       "</table>\n",
       "</div>"
      ],
      "text/plain": [
       "              change  changeOverTime  changePercent   close    volume\n",
       "date                                                                 \n",
       "2019-10-01  0.630000        0.002846         0.2776  235.08  36626895\n",
       "2019-10-02 -5.740000       -0.023081        -2.5109  222.51  35941685\n",
       "2019-10-03  1.940000       -0.014185         0.8914  231.78  30438546\n",
       "2019-10-04  6.310000        0.013995         2.8347  230.24  34995248\n",
       "2019-10-07  0.051249        0.000000         0.0200  234.46  32130948"
      ]
     },
     "execution_count": 2,
     "metadata": {},
     "output_type": "execute_result"
    }
   ],
   "source": [
    "import iex\n",
    "import key\n",
    "iex.init(key.test_token, api='sandbox')\n",
    "aapl = iex.Stock('AAPL')\n",
    "aapl.chart('5d', chartCloseOnly=True)"
   ]
  },
  {
   "cell_type": "code",
   "execution_count": 3,
   "metadata": {},
   "outputs": [
    {
     "data": {
      "text/html": [
       "<div>\n",
       "<style scoped>\n",
       "    .dataframe tbody tr th:only-of-type {\n",
       "        vertical-align: middle;\n",
       "    }\n",
       "\n",
       "    .dataframe tbody tr th {\n",
       "        vertical-align: top;\n",
       "    }\n",
       "\n",
       "    .dataframe thead th {\n",
       "        text-align: right;\n",
       "    }\n",
       "</style>\n",
       "<table border=\"1\" class=\"dataframe\">\n",
       "  <thead>\n",
       "    <tr style=\"text-align: right;\">\n",
       "      <th></th>\n",
       "      <th>amount</th>\n",
       "      <th>currency</th>\n",
       "      <th>date</th>\n",
       "      <th>declaredDate</th>\n",
       "      <th>description</th>\n",
       "      <th>flag</th>\n",
       "      <th>frequency</th>\n",
       "      <th>paymentDate</th>\n",
       "      <th>recordDate</th>\n",
       "    </tr>\n",
       "    <tr>\n",
       "      <th>exDate</th>\n",
       "      <th></th>\n",
       "      <th></th>\n",
       "      <th></th>\n",
       "      <th></th>\n",
       "      <th></th>\n",
       "      <th></th>\n",
       "      <th></th>\n",
       "      <th></th>\n",
       "      <th></th>\n",
       "    </tr>\n",
       "  </thead>\n",
       "  <tbody>\n",
       "    <tr>\n",
       "      <th>2018-11-14</th>\n",
       "      <td>0.74</td>\n",
       "      <td>USD</td>\n",
       "      <td>2019-10-08</td>\n",
       "      <td>2018-11-10</td>\n",
       "      <td>er eD lrpfpl$esAa7reP a udDiv. h3 areSeeydicr ...</td>\n",
       "      <td>QhneQoNCao g</td>\n",
       "      <td>reayurltQ</td>\n",
       "      <td>2018-11-29</td>\n",
       "      <td>2018-11-14</td>\n",
       "    </tr>\n",
       "  </tbody>\n",
       "</table>\n",
       "</div>"
      ],
      "text/plain": [
       "            amount currency       date declaredDate  \\\n",
       "exDate                                                \n",
       "2018-11-14    0.74      USD 2019-10-08   2018-11-10   \n",
       "\n",
       "                                                  description           flag  \\\n",
       "exDate                                                                         \n",
       "2018-11-14  er eD lrpfpl$esAa7reP a udDiv. h3 areSeeydicr ...  QhneQoNCao g    \n",
       "\n",
       "            frequency paymentDate  recordDate  \n",
       "exDate                                         \n",
       "2018-11-14  reayurltQ  2018-11-29  2018-11-14  "
      ]
     },
     "execution_count": 3,
     "metadata": {},
     "output_type": "execute_result"
    }
   ],
   "source": [
    "aapl.dividends('1y')"
   ]
  },
  {
   "cell_type": "markdown",
   "metadata": {},
   "source": [
    "## Fetcher SPY stocks"
   ]
  },
  {
   "cell_type": "code",
   "execution_count": 4,
   "metadata": {},
   "outputs": [],
   "source": [
    "import pandas as pd\n",
    "spy = [x for x in pd.read_html('https://etfdailynews.com/etf/spy/', attrs={'id': 'etfs-that-own'})[0].Symbol.values.tolist() \n",
    "       if isinstance(x, str)]\n",
    "correction = {'PCLN':'BKNG', 'DWDP':'DD'}"
   ]
  },
  {
   "cell_type": "code",
   "execution_count": 5,
   "metadata": {},
   "outputs": [],
   "source": [
    "import os, sys\n",
    "chart_range = [(5,'5d'), (20,'1m'), (75,'3m'), (165,'6m'), (341,'1y'), (715,'2y'), (99999,'max')]"
   ]
  },
  {
   "cell_type": "code",
   "execution_count": null,
   "metadata": {},
   "outputs": [],
   "source": [
    "# iex.init(key.test_token, api='sandbox')\n",
    "iex.init(key.token, api='cloud')\n",
    "\n",
    "# save historical price to disk\n",
    "for k in spy:\n",
    "    k = correction[k] if k in correction else k\n",
    "    sys.stdout.write('\\r{}   '.format(k))\n",
    "    filename = \"./daily/{}.csv\".format(k)\n",
    "    if os.path.exists(filename):\n",
    "        # fetcher missing period\n",
    "        df = pd.read_csv(filename, index_col='date', parse_dates=True)\n",
    "        days = pd.Timedelta(df.index[-1] - pd.datetime.now()).days\n",
    "        bdays = len(pd.bdate_range(df.index[-1], pd.datetime.now())) - 1\n",
    "        for day, param in chart_range:\n",
    "            if bdays <= 0:\n",
    "                break\n",
    "            elif days < day:\n",
    "                df_append = iex.Stock(k).chart(param)\n",
    "                pd.concat([df, df_append]).to_csv(filename)\n",
    "                break\n",
    "    else:\n",
    "        iex.Stock(k).chart('max').to_csv(filename)\n",
    "    \n"
   ]
  },
  {
   "cell_type": "code",
   "execution_count": null,
   "metadata": {},
   "outputs": [],
   "source": []
  },
  {
   "cell_type": "code",
   "execution_count": null,
   "metadata": {},
   "outputs": [],
   "source": []
  }
 ],
 "metadata": {
  "kernelspec": {
   "display_name": "Python 3",
   "language": "python",
   "name": "python3"
  },
  "language_info": {
   "codemirror_mode": {
    "name": "ipython",
    "version": 3
   },
   "file_extension": ".py",
   "mimetype": "text/x-python",
   "name": "python",
   "nbconvert_exporter": "python",
   "pygments_lexer": "ipython3",
   "version": "3.5.6"
  }
 },
 "nbformat": 4,
 "nbformat_minor": 2
}
