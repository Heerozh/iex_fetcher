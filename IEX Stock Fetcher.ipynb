{
 "cells": [
  {
   "cell_type": "code",
   "execution_count": 1,
   "metadata": {},
   "outputs": [],
   "source": [
    "%load_ext autoreload\n",
    "%autoreload 2"
   ]
  },
  {
   "cell_type": "markdown",
   "metadata": {},
   "source": [
    "# IEX Stock Fetcher\n",
    "\n",
    "The IEX free message quota only gets one year of data for 200 stocks, so run this, fetcher stock data and save to disk every month.\n"
   ]
  },
  {
   "cell_type": "markdown",
   "metadata": {},
   "source": [
    "## Test api"
   ]
  },
  {
   "cell_type": "code",
   "execution_count": 2,
   "metadata": {},
   "outputs": [
    {
     "data": {
      "text/html": [
       "<div>\n",
       "<style scoped>\n",
       "    .dataframe tbody tr th:only-of-type {\n",
       "        vertical-align: middle;\n",
       "    }\n",
       "\n",
       "    .dataframe tbody tr th {\n",
       "        vertical-align: top;\n",
       "    }\n",
       "\n",
       "    .dataframe thead th {\n",
       "        text-align: right;\n",
       "    }\n",
       "</style>\n",
       "<table border=\"1\" class=\"dataframe\">\n",
       "  <thead>\n",
       "    <tr style=\"text-align: right;\">\n",
       "      <th></th>\n",
       "      <th>change</th>\n",
       "      <th>changeOverTime</th>\n",
       "      <th>changePercent</th>\n",
       "      <th>close</th>\n",
       "      <th>high</th>\n",
       "      <th>label</th>\n",
       "      <th>low</th>\n",
       "      <th>open</th>\n",
       "      <th>uClose</th>\n",
       "      <th>uHigh</th>\n",
       "      <th>uLow</th>\n",
       "      <th>uOpen</th>\n",
       "      <th>uVolume</th>\n",
       "      <th>volume</th>\n",
       "    </tr>\n",
       "    <tr>\n",
       "      <th>date</th>\n",
       "      <th></th>\n",
       "      <th></th>\n",
       "      <th></th>\n",
       "      <th></th>\n",
       "      <th></th>\n",
       "      <th></th>\n",
       "      <th></th>\n",
       "      <th></th>\n",
       "      <th></th>\n",
       "      <th></th>\n",
       "      <th></th>\n",
       "      <th></th>\n",
       "      <th></th>\n",
       "      <th></th>\n",
       "    </tr>\n",
       "  </thead>\n",
       "  <tbody>\n",
       "    <tr>\n",
       "      <th>2019-09-30</th>\n",
       "      <td>0.00</td>\n",
       "      <td>0.000000</td>\n",
       "      <td>0.0000</td>\n",
       "      <td>232.57</td>\n",
       "      <td>233.01</td>\n",
       "      <td>Sep 30</td>\n",
       "      <td>230.73</td>\n",
       "      <td>222.40</td>\n",
       "      <td>228.30</td>\n",
       "      <td>229.41</td>\n",
       "      <td>221.60</td>\n",
       "      <td>227.30</td>\n",
       "      <td>27560717</td>\n",
       "      <td>27356318</td>\n",
       "    </tr>\n",
       "    <tr>\n",
       "      <th>2019-10-01</th>\n",
       "      <td>0.64</td>\n",
       "      <td>0.002815</td>\n",
       "      <td>0.2826</td>\n",
       "      <td>226.01</td>\n",
       "      <td>233.05</td>\n",
       "      <td>Oct 1</td>\n",
       "      <td>229.60</td>\n",
       "      <td>232.19</td>\n",
       "      <td>232.83</td>\n",
       "      <td>237.84</td>\n",
       "      <td>228.60</td>\n",
       "      <td>230.65</td>\n",
       "      <td>37151742</td>\n",
       "      <td>37308230</td>\n",
       "    </tr>\n",
       "    <tr>\n",
       "      <th>2019-10-02</th>\n",
       "      <td>-5.75</td>\n",
       "      <td>-0.022611</td>\n",
       "      <td>-2.5684</td>\n",
       "      <td>227.78</td>\n",
       "      <td>229.09</td>\n",
       "      <td>Oct 2</td>\n",
       "      <td>228.07</td>\n",
       "      <td>232.78</td>\n",
       "      <td>229.49</td>\n",
       "      <td>233.52</td>\n",
       "      <td>218.58</td>\n",
       "      <td>226.00</td>\n",
       "      <td>37445848</td>\n",
       "      <td>36370828</td>\n",
       "    </tr>\n",
       "    <tr>\n",
       "      <th>2019-10-03</th>\n",
       "      <td>1.94</td>\n",
       "      <td>-0.014334</td>\n",
       "      <td>0.8574</td>\n",
       "      <td>231.74</td>\n",
       "      <td>225.67</td>\n",
       "      <td>Oct 3</td>\n",
       "      <td>217.92</td>\n",
       "      <td>221.74</td>\n",
       "      <td>231.50</td>\n",
       "      <td>225.57</td>\n",
       "      <td>224.30</td>\n",
       "      <td>222.75</td>\n",
       "      <td>31557655</td>\n",
       "      <td>30834853</td>\n",
       "    </tr>\n",
       "    <tr>\n",
       "      <th>2019-10-04</th>\n",
       "      <td>6.46</td>\n",
       "      <td>0.014193</td>\n",
       "      <td>2.8351</td>\n",
       "      <td>230.52</td>\n",
       "      <td>234.07</td>\n",
       "      <td>Oct 4</td>\n",
       "      <td>225.19</td>\n",
       "      <td>228.58</td>\n",
       "      <td>237.81</td>\n",
       "      <td>237.88</td>\n",
       "      <td>226.40</td>\n",
       "      <td>227.52</td>\n",
       "      <td>35754280</td>\n",
       "      <td>34896043</td>\n",
       "    </tr>\n",
       "  </tbody>\n",
       "</table>\n",
       "</div>"
      ],
      "text/plain": [
       "            change  changeOverTime  changePercent   close    high   label  \\\n",
       "date                                                                        \n",
       "2019-09-30    0.00        0.000000         0.0000  232.57  233.01  Sep 30   \n",
       "2019-10-01    0.64        0.002815         0.2826  226.01  233.05   Oct 1   \n",
       "2019-10-02   -5.75       -0.022611        -2.5684  227.78  229.09   Oct 2   \n",
       "2019-10-03    1.94       -0.014334         0.8574  231.74  225.67   Oct 3   \n",
       "2019-10-04    6.46        0.014193         2.8351  230.52  234.07   Oct 4   \n",
       "\n",
       "               low    open  uClose   uHigh    uLow   uOpen   uVolume    volume  \n",
       "date                                                                            \n",
       "2019-09-30  230.73  222.40  228.30  229.41  221.60  227.30  27560717  27356318  \n",
       "2019-10-01  229.60  232.19  232.83  237.84  228.60  230.65  37151742  37308230  \n",
       "2019-10-02  228.07  232.78  229.49  233.52  218.58  226.00  37445848  36370828  \n",
       "2019-10-03  217.92  221.74  231.50  225.57  224.30  222.75  31557655  30834853  \n",
       "2019-10-04  225.19  228.58  237.81  237.88  226.40  227.52  35754280  34896043  "
      ]
     },
     "execution_count": 2,
     "metadata": {},
     "output_type": "execute_result"
    }
   ],
   "source": [
    "import iex\n",
    "import key\n",
    "iex.init(key.test_token, api='sandbox')\n",
    "aapl = iex.Stock('AAPL')\n",
    "aapl.chart('5d')"
   ]
  },
  {
   "cell_type": "markdown",
   "metadata": {},
   "source": [
    "## Fetche SPY stocks"
   ]
  },
  {
   "cell_type": "code",
   "execution_count": 51,
   "metadata": {},
   "outputs": [],
   "source": [
    "import pandas as pd\n",
    "spy = [x for x in pd.read_html('https://etfdailynews.com/etf/spy/', attrs={'id': 'etfs-that-own'})[0].Symbol.values.tolist() if isinstance(x, str)]"
   ]
  },
  {
   "cell_type": "code",
   "execution_count": null,
   "metadata": {},
   "outputs": [],
   "source": [
    "iex.init(key.test_token, api='sandbox')\n",
    "# iex.init(key.token, api='cloud')\n",
    "for k in spy:\n",
    "    # todo read csv and add needed range\n",
    "    iex.Stock(k).chart('1y').to_csv(\"./daily/{}.csv\".format(k))"
   ]
  },
  {
   "cell_type": "code",
   "execution_count": null,
   "metadata": {},
   "outputs": [],
   "source": []
  },
  {
   "cell_type": "code",
   "execution_count": null,
   "metadata": {},
   "outputs": [],
   "source": [
    " "
   ]
  },
  {
   "cell_type": "code",
   "execution_count": null,
   "metadata": {},
   "outputs": [],
   "source": []
  },
  {
   "cell_type": "code",
   "execution_count": null,
   "metadata": {},
   "outputs": [],
   "source": []
  },
  {
   "cell_type": "code",
   "execution_count": null,
   "metadata": {},
   "outputs": [],
   "source": []
  },
  {
   "cell_type": "code",
   "execution_count": null,
   "metadata": {},
   "outputs": [],
   "source": []
  }
 ],
 "metadata": {
  "kernelspec": {
   "display_name": "Python [conda env:fac]",
   "language": "python",
   "name": "conda-env-fac-py"
  },
  "language_info": {
   "codemirror_mode": {
    "name": "ipython",
    "version": 3
   },
   "file_extension": ".py",
   "mimetype": "text/x-python",
   "name": "python",
   "nbconvert_exporter": "python",
   "pygments_lexer": "ipython3",
   "version": "3.5.6"
  }
 },
 "nbformat": 4,
 "nbformat_minor": 2
}
